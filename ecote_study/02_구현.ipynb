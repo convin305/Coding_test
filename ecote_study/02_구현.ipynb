{
  "nbformat": 4,
  "nbformat_minor": 0,
  "metadata": {
    "colab": {
      "provenance": [],
      "authorship_tag": "ABX9TyP5qOynctmzEPsloaIF8Mzq"
    },
    "kernelspec": {
      "name": "python3",
      "display_name": "Python 3"
    },
    "language_info": {
      "name": "python"
    }
  },
  "cells": [
    {
      "cell_type": "markdown",
      "source": [
        "### 7. 럭키 스트레이트\n",
        "* N은 짝수 자릿수를 가진 정수\n",
        "* 자릿수를 반으로 나누어 왼쪽과 오른쪽의 각 자릿수의 합이 같은 경우에만 LUCKY를 출력, 그렇지 않으면 READY출력"
      ],
      "metadata": {
        "id": "Gxd8XYoJ3pYN"
      }
    },
    {
      "cell_type": "code",
      "execution_count": 8,
      "metadata": {
        "colab": {
          "base_uri": "https://localhost:8080/"
        },
        "id": "Kl2I_76p3lwf",
        "outputId": "6d63ae85-96d9-49a7-de16-7adf3006edfc"
      },
      "outputs": [
        {
          "output_type": "stream",
          "name": "stdout",
          "text": [
            "7755\n",
            "READY\n"
          ]
        }
      ],
      "source": [
        "def lucky_straight():\n",
        "  N = input()\n",
        "  mid = len(N)// 2\n",
        "  left, right = 0,0\n",
        "  for i in range(mid):\n",
        "    left += int(N[i])\n",
        "  for i in range(mid,len(N)):\n",
        "    right += int(N[i])\n",
        "  if left == right :\n",
        "    print('LUCKY')\n",
        "  else : \n",
        "    print('READY')\n",
        "\n",
        "lucky_straight()"
      ]
    },
    {
      "cell_type": "markdown",
      "source": [
        "### 8.문자열 재정렬\n",
        "* 알파벳 대문자와 숫자로만 구성된 문자열\n",
        "* 모든 알파벳을 오름차순으로 정렬, 숫자는 모두 더해서 그 뒤에 출력"
      ],
      "metadata": {
        "id": "GXbFbWz-5dLT"
      }
    },
    {
      "cell_type": "code",
      "source": [
        "def string_sorting():\n",
        "  S = input()\n",
        "  num_sum = 0\n",
        "  string_list = []\n",
        "  for i in range(len(S)):\n",
        "    if S[i].isdigit():\n",
        "      num_sum += int(S[i])\n",
        "    else:\n",
        "      string_list.append(S[i])\n",
        "  string_list.sort()\n",
        "  string_list.append(str(num_sum))\n",
        "  print(''.join(string_list))\n",
        "\n",
        "string_sorting()"
      ],
      "metadata": {
        "colab": {
          "base_uri": "https://localhost:8080/"
        },
        "id": "CSF5Gfo455GZ",
        "outputId": "a334e10c-969b-4e96-ab85-152ed01a989c"
      },
      "execution_count": 23,
      "outputs": [
        {
          "output_type": "stream",
          "name": "stdout",
          "text": [
            "AJKDLSI412K4JSJ9D\n",
            "ADDIJJJKKLSS20\n"
          ]
        }
      ]
    }
  ]
}