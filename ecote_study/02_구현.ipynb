{
  "nbformat": 4,
  "nbformat_minor": 0,
  "metadata": {
    "colab": {
      "provenance": [],
      "authorship_tag": "ABX9TyOJxT5JPxz2XJ9m2TFm2lT/"
    },
    "kernelspec": {
      "name": "python3",
      "display_name": "Python 3"
    },
    "language_info": {
      "name": "python"
    }
  },
  "cells": [
    {
      "cell_type": "markdown",
      "source": [
        "### 7. 럭키 스트레이트\n",
        "* N은 짝수 자릿수를 가진 정수\n",
        "* 자릿수를 반으로 나누어 왼쪽과 오른쪽의 각 자릿수의 합이 같은 경우에만 LUCKY를 출력, 그렇지 않으면 READY출력"
      ],
      "metadata": {
        "id": "Gxd8XYoJ3pYN"
      }
    },
    {
      "cell_type": "code",
      "execution_count": null,
      "metadata": {
        "id": "Kl2I_76p3lwf"
      },
      "outputs": [],
      "source": [
        "def lucky_straight():\n",
        "  N = input()\n",
        "  mid = len(N)// 2\n",
        "  left, right = 0,0\n",
        "  for i in range(mid):\n",
        "    left += int(N[i])\n",
        "  for i in range(mid,len(N)):\n",
        "    right += int(N[i])\n",
        "  if left == right :\n",
        "    print('LUCKY')\n",
        "  else : \n",
        "    print('READY')\n",
        "\n",
        "lucky_straight()"
      ]
    },
    {
      "cell_type": "markdown",
      "source": [
        "### 8.문자열 재정렬\n",
        "* 알파벳 대문자와 숫자로만 구성된 문자열\n",
        "* 모든 알파벳을 오름차순으로 정렬, 숫자는 모두 더해서 그 뒤에 출력"
      ],
      "metadata": {
        "id": "GXbFbWz-5dLT"
      }
    },
    {
      "cell_type": "code",
      "source": [
        "def string_sorting():\n",
        "  S = input()\n",
        "  num_sum = 0\n",
        "  string_list = []\n",
        "  for i in range(len(S)):\n",
        "    if S[i].isdigit():\n",
        "      num_sum += int(S[i])\n",
        "    else:\n",
        "      string_list.append(S[i])\n",
        "  string_list.sort()\n",
        "  string_list.append(str(num_sum))\n",
        "  print(''.join(string_list))\n",
        "\n",
        "string_sorting()"
      ],
      "metadata": {
        "id": "CSF5Gfo455GZ"
      },
      "execution_count": null,
      "outputs": []
    },
    {
      "cell_type": "markdown",
      "source": [
        "### 09.문자열 압축\n",
        "* 1개 이상 단위로 문자열을 잘라 압축한 표현한 문자열 중 가장 짧은 것의 길이를 리턴"
      ],
      "metadata": {
        "id": "767gsW1IzB8x"
      }
    },
    {
      "cell_type": "code",
      "source": [
        "def solution(text):\n",
        "  len_text = len(text)\n",
        "  answer = len_text\n",
        "  for step in range(1,len_text//2+1): \n",
        "    compressed = \"\"\n",
        "    prev = text[0:step] # 앞에서부터 step까지의 문자열 추출\n",
        "    count = 1\n",
        "    for j in range(step, len_text, step):\n",
        "      if prev == text[j:j+step]:\n",
        "        # 압축할 수 있는 경우\n",
        "        count += 1\n",
        "      else : # 압축 못 하는 경우\n",
        "        compressed += str(count)+prev if count >= 2 else prev\n",
        "        prev = text[j:j+step]\n",
        "        count = 1\n",
        "    compressed += str(count)+prev if count >= 2 else prev\n",
        "    answer = min(answer, len(compressed))\n",
        "  return answer\n",
        "\n",
        "solution(\"aabbaccc\")"
      ],
      "metadata": {
        "id": "M9B1eztm2D5g"
      },
      "execution_count": null,
      "outputs": []
    },
    {
      "cell_type": "markdown",
      "source": [
        "### 10.자물쇠와 열쇠\n",
        "* 열쇠, 자물쇠 : 2차원 배열\n",
        "* 열쇠로 열 수 있으면 true, 아니면 false리턴\n",
        "* 열쇠는 회전과 이동하면서 자물쇠의 빈 곳을 채울 수 있는지 확인\n",
        "* 열쇠의 돌기와 자물쇠의 돌기도 만나서는 안됨 -> 서로 겹치는 부분이 없으면서 빈 곳이 채워져야 함"
      ],
      "metadata": {
        "id": "XZfmHxDE8_xa"
      }
    },
    {
      "cell_type": "code",
      "source": [
        "key = [[0, 0, 0], [1, 0, 0], [0, 1, 1]]\n",
        "lock = [[1, 1, 1], [1, 1, 0], [1, 0, 1]]\n",
        "\n",
        "# padding 후 한 칸에 대해서 90도씩 돌려가면서 확인하는 방식\n",
        "\n",
        "# 2차원 리스트 90도 회전하기\n",
        "# 밑에 함수는 2차원 리스트 활용 시 가끔 사용되므로 기억해두면 좋음\n",
        "def rotate_a_matrix_by_90_degree(a):\n",
        "    n = len(a) # 행 길이 계산\n",
        "    m = len(a[0]) # 열 길이 계산\n",
        "    result = [[0] * n for _ in range(m)] # 결과 리스트\n",
        "    for i in range(n):\n",
        "        for j in range(m):\n",
        "            result[j][n - i - 1] = a[i][j]\n",
        "    return result\n",
        "\n",
        "# 자물쇠의 중간 부분이 모두 1인지 확인\n",
        "def check(new_lock):\n",
        "    lock_length = len(new_lock) // 3\n",
        "    for i in range(lock_length, lock_length * 2):\n",
        "        for j in range(lock_length, lock_length * 2):\n",
        "            if new_lock[i][j] != 1:\n",
        "                return False\n",
        "    return True\n",
        "\n",
        "def solution(key, lock):\n",
        "    n = len(lock)\n",
        "    m = len(key)\n",
        "    # 자물쇠의 크기를 기존의 3배로 변환\n",
        "    new_lock = [[0] * (n * 3) for _ in range(n * 3)]\n",
        "    # 새로운 자물쇠의 중앙 부분에 기존의 자물쇠 넣기\n",
        "    for i in range(n):\n",
        "        for j in range(n):\n",
        "            new_lock[i + n][j + n] = lock[i][j]\n",
        "\n",
        "    # 회전하며 4가지 방향에 대해서 확인\n",
        "    for rotation in range(4):\n",
        "        key = rotate_a_matrix_by_90_degree(key)\n",
        "        for x in range(n * 2):\n",
        "            for y in range(n * 2):\n",
        "                # 자물쇠에 열쇠를 끼워 넣기\n",
        "                for i in range(m):\n",
        "                    for j in range(m):\n",
        "                        new_lock[x + i][y + j] += key[i][j]\n",
        "                # 새로운 자물쇠에 열쇠가 정확히 들어 맞는지 검사\n",
        "                if check(new_lock) == True:\n",
        "                    return True\n",
        "                # 자물쇠에서 열쇠를 다시 빼기\n",
        "                for i in range(m):\n",
        "                    for j in range(m):\n",
        "                        new_lock[x + i][y + j] -= key[i][j]\n",
        "    return False"
      ],
      "metadata": {
        "id": "-dyg-RuM-C4o"
      },
      "execution_count": null,
      "outputs": []
    },
    {
      "cell_type": "markdown",
      "source": [
        "### 11.뱀\n",
        "* 뱀은 머리를 앞으로 움직이며 이동\n",
        "  * 그 칸에 사과가 있으면 길이가 늘어나고\n",
        "  * 그 칸에 사과가 없으면 꼬리가 한 칸 줄어듬\n",
        "* 초기 뱀 위치는 맨 위, 맨 좌측\n",
        "* 초기 뱀 길이는 1\n",
        "* 초기 뱀의 머리는 오른쪽으로 향함\n",
        "* 벽 또는 자기 자신의 몸과 부딪히면 게임종료\n",
        "\n",
        "* 주어지는 것 : 사과의 위치, 이동경로"
      ],
      "metadata": {
        "id": "uscOvE9Emyx3"
      }
    },
    {
      "cell_type": "code",
      "source": [
        "n = int(input())\n",
        "k = int(input())\n",
        "data = [[0] * (n + 1) for _ in range(n + 1)] # 맵 정보\n",
        "info = [] # 방향 회전 정보\n",
        "\n",
        "# 맵 정보(사과 있는 곳은 1로 표시)\n",
        "for _ in range(k):\n",
        "    a, b = map(int, input().split())\n",
        "    data[a][b] = 1\n",
        "\n",
        "# 방향 회전 정보 입력\n",
        "l = int(input())\n",
        "for _ in range(l):\n",
        "    x, c = input().split()\n",
        "    info.append((int(x), c))\n",
        "\n",
        "# 처음에는 오른쪽을 보고 있으므로(동, 남, 서, 북)\n",
        "dx = [0,1,0,-1]\n",
        "dy = [1,0,-1,0]\n",
        "\n",
        "# 회전하는 경우 \n",
        "def snake_rotate(direction, l):\n",
        "  if l == 'D':\n",
        "    direction = (direction + 1) % 4\n",
        "  else :\n",
        "    direction = (direction -1 )% 4\n",
        "  return direction\n",
        "\n",
        "def simulate():\n",
        "    x, y = 1, 1 # 뱀의 머리 위치\n",
        "    data[x][y] = 2 # 뱀이 존재하는 위치는 2로 표시\n",
        "    direction = 0 # 처음에는 동쪽을 보고 있음\n",
        "    time = 0 # 시작한 뒤에 지난 '초' 시간\n",
        "    index = 0 # 다음에 회전할 정보\n",
        "    q = [(x, y)] # 뱀이 차지하고 있는 위치 정보(꼬리가 앞쪽)\n",
        "\n",
        "    while True:\n",
        "        nx = x + dx[direction]\n",
        "        ny = y + dy[direction]\n",
        "        # 맵 범위 안에 있고, 뱀의 몸통이 없는 위치라면\n",
        "        if 1 <= nx and nx <= n and 1 <= ny and ny <= n and data[nx][ny] != 2:\n",
        "            # 사과가 없다면 이동 후에 꼬리 제거\n",
        "            if data[nx][ny] == 0:\n",
        "                data[nx][ny] = 2\n",
        "                q.append((nx, ny))\n",
        "                px, py = q.pop(0)\n",
        "                data[px][py] = 0\n",
        "            # 사과가 있다면 이동 후에 꼬리 그대로 두기\n",
        "            if data[nx][ny] == 1:\n",
        "                data[nx][ny] = 2\n",
        "                q.append((nx, ny))\n",
        "        # 벽이나 뱀의 몸통과 부딪혔다면\n",
        "        else:\n",
        "            time += 1\n",
        "            break\n",
        "        x, y = nx, ny # 다음 위치로 머리를 이동\n",
        "        time += 1\n",
        "        if index < l and time == info[index][0]: # 회전할 시간인 경우 회전\n",
        "            direction = snake_rotate(direction, info[index][1])\n",
        "            index += 1\n",
        "    return time\n",
        "\n",
        "print(simulate())"
      ],
      "metadata": {
        "id": "ByLHGSJOnYtP"
      },
      "execution_count": null,
      "outputs": []
    },
    {
      "cell_type": "markdown",
      "source": [
        "### 12. 기둥과 보 설치\n",
        "* 기둥 : 바닥 위, 보의 한쪽 끝 부분 위, 다른 기둥 위에 있어야 함  \n",
        "* 보 : 한쪽 끝 부분이 기둥 위, 양쪽 끝 부분이 다른 보와 동시에 연결되어 있어야 함\n",
        "\n",
        "* build_frame : 벽면의 크기, 기둥과 보의 설치 또는 삭제 작업의 순서가 담긴 배열\n",
        "* solution : 명령 수행 후 구조물의 상태를 리턴"
      ],
      "metadata": {
        "id": "cPyr-tYjueF1"
      }
    },
    {
      "cell_type": "code",
      "source": [
        "# 현재 설치된 구조물이 '가능한' 구조물인지 확인하는 함수\n",
        "def possible(answer):\n",
        "    for x, y, stuff in answer:\n",
        "        if stuff == 0: # 설치된 것이 '기둥'인 경우\n",
        "            # '바닥 위' 혹은 '보의 한쪽 끝 부분 위' 혹은 '다른 기둥 위'라면 정상\n",
        "            if y == 0 or [x - 1, y, 1] in answer or [x, y, 1] in answer or [x, y - 1, 0] in answer:\n",
        "                continue\n",
        "            return False # 아니라면 거짓(False) 반환\n",
        "        elif stuff == 1: # 설치된 것이 '보'인 경우\n",
        "            # '한쪽 끝부분이 기둥 위' 혹은 '양쪽 끝부분이 다른 보와 동시에 연결'이라면 정상\n",
        "            if [x, y - 1, 0] in answer or [x + 1, y - 1, 0] in answer or ([x - 1, y, 1] in answer and [x + 1, y, 1] in answer):\n",
        "                continue\n",
        "            return False # 아니라면 거짓(False) 반환\n",
        "    return True\n",
        "\n",
        "def solution(n, build_frame):\n",
        "    answer = []\n",
        "    for frame in build_frame: # 작업(frame)의 개수는 최대 1,000개\n",
        "        x, y, stuff, operate = frame\n",
        "        if operate == 0: # 삭제하는 경우\n",
        "            answer.remove([x, y, stuff]) # 일단 삭제를 해본 뒤에\n",
        "            if not possible(answer): # 가능한 구조물인지 확인\n",
        "                answer.append([x, y, stuff]) # 가능한 구조물이 아니라면 다시 설치\n",
        "        if operate == 1: # 설치하는 경우\n",
        "            answer.append([x, y, stuff]) # 일단 설치를 해본 뒤에\n",
        "            if not possible(answer): # 가능한 구조물인지 확인\n",
        "                answer.remove([x, y, stuff]) # 가능한 구조물이 아니라면 다시 제거\n",
        "    return sorted(answer) # 정렬된 결과를 반환"
      ],
      "metadata": {
        "id": "iLiEETY05i0-"
      },
      "execution_count": null,
      "outputs": []
    },
    {
      "cell_type": "markdown",
      "source": [
        "### 13. 치킨배달\n",
        "* 치킨거리 : 집과 가장 가까운 치킨집 사이의 거리\n",
        "* 도시의 치킨 거리 : 모든 집의 치킨 거리의 합\n",
        "\n",
        "도시의 치킨집 중 M개를 골랐을 때 도시의 치킨 거리를 가장 작게 될지 구해야 함"
      ],
      "metadata": {
        "id": "eJlLlT2q6Utq"
      }
    },
    {
      "cell_type": "code",
      "source": [
        "from itertools import combinations\n",
        "\n",
        "n, m = map(int, input().split())\n",
        "chicken, house = [], []\n",
        "\n",
        "for r in range(n):\n",
        "    data = list(map(int, input().split()))\n",
        "    for c in range(n):\n",
        "        if data[c] == 1:\n",
        "            house.append((r, c)) # 일반 집\n",
        "        elif data[c] == 2:\n",
        "            chicken.append((r, c)) # 치킨집\n",
        "\n",
        "# 모든 치킨 집 중에서 m개의 치킨 집을 뽑는 조합 계산\n",
        "candidates = list(combinations(chicken, m))\n",
        "\n",
        "# 치킨 거리의 합을 계산하는 함수\n",
        "def get_sum(candidate):\n",
        "    result = 0\n",
        "    # 모든 집에 대하여\n",
        "    for hx, hy in house:\n",
        "        # 가장 가까운 치킨 집을 찾기\n",
        "        temp = 1e9\n",
        "        for cx, cy in candidate:\n",
        "            temp = min(temp, abs(hx - cx) + abs(hy - cy))\n",
        "        # 가장 가까운 치킨 집까지의 거리를 더하기\n",
        "        result += temp\n",
        "    # 치킨 거리의 합 반환\n",
        "    return result\n",
        "\n",
        "# 치킨 거리의 합의 최소를 찾아 출력\n",
        "result = 1e9\n",
        "for candidate in candidates:\n",
        "    result = min(result, get_sum(candidate))\n",
        "\n",
        "print(result)"
      ],
      "metadata": {
        "id": "OT1XKfyR60JP"
      },
      "execution_count": null,
      "outputs": []
    },
    {
      "cell_type": "markdown",
      "source": [
        "### 14.외벽 점검\n",
        "* 이건 문제가 해석이 잘 안됨....."
      ],
      "metadata": {
        "id": "3tHm6NZO67XV"
      }
    },
    {
      "cell_type": "code",
      "source": [
        "from itertools import permutations\n",
        "\n",
        "def solution(n, weak, dist):\n",
        "    # 길이를 2배로 늘려서 '원형'을 일자 형태로 변형\n",
        "    length = len(weak)\n",
        "    for i in range(length):\n",
        "        weak.append(weak[i] + n)\n",
        "    answer = len(dist) + 1 # 투입할 친구 수의 최솟값을 찾아야 하므로 len(dist) + 1로 초기화\n",
        "    # 0부터 length - 1까지의 위치를 각각 시작점으로 설정\n",
        "    for start in range(length):\n",
        "        # 친구를 나열하는 모든 경우 각각에 대하여 확인\n",
        "        for friends in list(permutations(dist, len(dist))):\n",
        "            count = 1 # 투입할 친구의 수\n",
        "            # 해당 친구가 점검할 수 있는 마지막 위치\n",
        "            position = weak[start] + friends[count - 1]\n",
        "            # 시작점부터 모든 취약한 지점을 확인\n",
        "            for index in range(start, start + length):\n",
        "                # 점검할 수 있는 위치를 벗어나는 경우\n",
        "                if position < weak[index]:\n",
        "                    count += 1 # 새로운 친구를 투입\n",
        "                    if count > len(dist): # 더 투입이 불가능하다면 종료\n",
        "                        break\n",
        "                    position = weak[index] + friends[count - 1]\n",
        "            answer = min(answer, count) # 최솟값 계산\n",
        "    if answer > len(dist):\n",
        "        return -1\n",
        "    return answer"
      ],
      "metadata": {
        "id": "T9d6sowJ7JRv"
      },
      "execution_count": null,
      "outputs": []
    }
  ]
}