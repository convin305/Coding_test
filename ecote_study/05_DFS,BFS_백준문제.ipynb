{
  "nbformat": 4,
  "nbformat_minor": 0,
  "metadata": {
    "colab": {
      "provenance": [],
      "authorship_tag": "ABX9TyN5QTRpJwysujkvncwQVgcP"
    },
    "kernelspec": {
      "name": "python3",
      "display_name": "Python 3"
    },
    "language_info": {
      "name": "python"
    }
  },
  "cells": [
    {
      "cell_type": "code",
      "execution_count": null,
      "metadata": {
        "id": "tLM5YXtbxd7Q"
      },
      "outputs": [],
      "source": [
        "# 모든 도로의 거리는 1 => 너비 우선 탐색 => deque이용\n",
        "# 특정 도시를 기준으로, BFS를 수행하여 최단거리 계산 후 도시 번호 출력\n",
        "from collections import deque \n",
        "import sys\n",
        "\n",
        "# 시간초과를 이걸로 해결한 사례를 봤..는..데...\n",
        "input = sys.stdin.readline\n",
        "n, m, k, x = map(int, input().split())\n",
        "graph = [[] for _ in range(n+1)] # n개만큼 만들고\n",
        "\n",
        "for _ in range(m):\n",
        "    a, b = map(int, input().split())\n",
        "    graph[a].append(b) # 경로 저장\n",
        "    distance = [-1] * (n+1)\n",
        "    distance[x] = 0\n",
        "    # 방문처리\n",
        "    q = deque([x])\n",
        "    # 큐가 빌 때까지\n",
        "    while q :\n",
        "        now = q.popleft()\n",
        "        for node in graph[now]:\n",
        "            if distance[node] == -1:\n",
        "                distance[node] = distance[now] + 1\n",
        "                q.append(node)\n",
        "\n",
        "check = False\n",
        "for i in range(1, n+1):\n",
        "    if distance[i] == k:\n",
        "        print(i)\n",
        "        check = True\n",
        "if check == False : \n",
        "    print(-1)"
      ]
    },
    {
      "cell_type": "markdown",
      "source": [
        "_____________________________"
      ],
      "metadata": {
        "id": "YEfAfl-FnV7B"
      }
    },
    {
      "cell_type": "markdown",
      "source": [
        "https://www.acmicpc.net/problem/2667    \n",
        "단지 : 연결된 집의 모임  \n",
        "\n",
        "\n",
        "* input : 첫 번째 줄에는 지도의 크기 N, 다음 N줄에는 각각 N개의 자료(0혹은 1)가 입력\n",
        "* output : 첫 번째 줄에는 총 단지수, 이후에는 각 단지내 집의 수  \n",
        "\n",
        "특정 좌표가 1이면 방문"
      ],
      "metadata": {
        "id": "zuKeFYlWyUOG"
      }
    },
    {
      "cell_type": "code",
      "source": [
        "from collections import deque\n",
        "\n",
        "# 위 아래 왼쪽 오른쪽으로 움직일 예정\n",
        "dx = [0,0,1,-1]\n",
        "dy = [1,-1, 0,0]\n",
        "\n",
        "# BFS를 이용하여 풀이\n",
        "def bfs(graph, a, b):\n",
        "    n = len(graph)\n",
        "    queue = deque() # 큐 선언\n",
        "    graph[a][b] = 0 # a,b집 방문 처리\n",
        "    queue.append((a, b)) # 큐에 추가\n",
        "    count = 1 # 방문하면서 일단 count 1시작 \n",
        "\n",
        "    while queue: #queue가 빌 때까지 \n",
        "        x, y = queue.popleft()\n",
        "        for i in range(4): #상하좌우로 하나씩 확인\n",
        "            nx = x + dx[i]\n",
        "            ny = y + dy[i]\n",
        "            # 이동했는데 0이 나오거나 그래프의 길이 이상인 경우는 continue\n",
        "            if nx < 0 or nx >= n or ny < 0 or ny >= n:\n",
        "                continue\n",
        "            # 방문하지 않은 집(1인경우)를 발견했다면 \n",
        "            if graph[nx][ny] == 1:\n",
        "                graph[nx][ny] = 0 # 방문처리하고\n",
        "                queue.append((nx, ny)) # 큐에 추가\n",
        "                count += 1 # 찾았으니까 count 증가\n",
        "    return count\n",
        "\n",
        "# data 입력\n",
        "n = int(input())\n",
        "graph = []\n",
        "for _ in range(n):\n",
        "    graph.append(list(map(int, input())))\n",
        "\n",
        "# 그래프의 행, 열 개수만큼 진행\n",
        "num = []\n",
        "for i in range(n):\n",
        "  for k in range(n):\n",
        "    if graph[i][k] == 1:\n",
        "      num.append(bfs(graph, i, k))\n",
        "      \n",
        "num.sort() \n",
        "\n",
        "print(len(num))\n",
        "for i in range(len(num)):\n",
        "  print(num[i])"
      ],
      "metadata": {
        "id": "C4zvgNREzA2q"
      },
      "execution_count": null,
      "outputs": []
    },
    {
      "cell_type": "markdown",
      "source": [
        "https://www.acmicpc.net/problem/2468  \n",
        " \n",
        "\n",
        "input  \n",
        "* 첫째 줄 : 2차원 배열의 행과 열 개수인 n\n",
        "* 그 다음 : 1 ~ n번째 행의 높이 정보  \n",
        "\n",
        "\n",
        "output  \n",
        "장마철에 물에 잠기지 않는 안전한 영역의 최대 개수를 출력  \n"
      ],
      "metadata": {
        "id": "MGYxfEaJ2GPw"
      }
    },
    {
      "cell_type": "code",
      "source": [
        "# 안전 영역의 최대 개수 -> 이어진 부분이 적으면서 최대 개수?\n",
        "# 아무 비가 내리지 않을 수도 있기도 하므로, 일단 0 -> 제일 높은 수-1 까지 해서 몇 개의 영역이 나오는지 확인해보면 좋을 것 같음\n",
        "\n",
        "# 상,하,좌,우로 움직일 예정\n",
        "dx = [0,0,1,-1]\n",
        "dy = [1,-1,0,0]\n",
        "\n",
        "\n",
        "def dfs(x, y, h):\n",
        "    for i in range(4):\n",
        "        nx = x + dx[i]\n",
        "        ny = y + dy[i]\n",
        "\n",
        "        if 0 <= nx < n and 0 <= ny < n:\n",
        "            if graph[nx][ny] > h and visited[nx][ny] == 0:\n",
        "                visited[nx][ny] = 1\n",
        "                dfs(nx, ny, h)\n",
        "\n",
        "\n",
        "# data 입력 \n",
        "n = int(input())\n",
        "graph = []\n",
        "for _ in range(n):\n",
        "    graph.append(list(map(int, input().split())))\n",
        "\n",
        "# 최대값 구하기\n",
        "max_num = max(sum(graph,[]))\n",
        "answer = 0 # 이걸 안해주면 답이 안나옴...\n",
        "\n",
        "# 실행부 \n",
        "for k in range(max_num):  # 가장 큰 값까지\n",
        "    cnt = 0\n",
        "    visited = [[0]*n for _ in range(n)]\n",
        "    for i in range(n):\n",
        "        for j in range(n):\n",
        "            if graph[i][j] > k and visited[i][j] == 0:\n",
        "                visited[i][j] = 1\n",
        "                cnt += 1\n",
        "                dfs(i, j, k)\n",
        "\n",
        "    answer = max(answer, cnt)\n",
        "\n",
        "print(answer)"
      ],
      "metadata": {
        "colab": {
          "base_uri": "https://localhost:8080/"
        },
        "id": "iPetfdGqUMRM",
        "outputId": "e98aae02-d9d3-49fe-9aca-7a9d2f789ad1"
      },
      "execution_count": null,
      "outputs": [
        {
          "output_type": "stream",
          "name": "stdout",
          "text": [
            "5\n",
            "6 8 2 6 2\n",
            "3 2 3 4 6\n",
            "6 7 3 3 2\n",
            "7 2 5 3 6\n",
            "8 9 5 2 7\n",
            "5\n"
          ]
        }
      ]
    },
    {
      "cell_type": "markdown",
      "source": [
        "https://www.acmicpc.net/problem/2583  \n",
        "눈금간격은1, 크기는 MxN인 모눈종이가 있을 때,  \n",
        "몇 개의 분리된 영역으로 나누어 지는지, 그리고 그 영역은 얼마인지를 구하기  \n",
        "input  \n",
        "* 모눈종이의 크기 M,N 직사각형개수 K  \n",
        "* 한 줄에 하나씩 직사각형의 왼쪽 아래 꼭짓점의 x, y좌표값과 오른쪽 위 꼭짓점의 x, y좌표값  \n",
        "\n",
        "output\n",
        "* 분리되어 나누어지는 영역의 개수  \n",
        "* 각 영역의 넓이를 오름차순으로 정렬하여 출력. 중간에 띄어쓰기로 구분"
      ],
      "metadata": {
        "id": "eWQfO4Qq2G7h"
      }
    },
    {
      "cell_type": "code",
      "source": [
        "from collections import deque\n",
        "\n",
        "# 상,하,좌,우로 움직일 예정\n",
        "dx = [0,0,1,-1]\n",
        "dy = [1,-1, 0,0]\n",
        "\n",
        "def bfs(x,y):\n",
        "  count = 1\n",
        "  queue = deque()\n",
        "  queue.append((x,y))\n",
        "  paper[x][y] = 1\n",
        "  while queue : \n",
        "    x,y = queue.popleft()\n",
        "    for i in range(4):\n",
        "      nx = x + dx[i]\n",
        "      ny = y + dy[i]\n",
        "      # if nx >= 0 and nx < N and ny >= 0 and ny < M and paper[nx][ny] == 0:\n",
        "      #   paper[nx][ny] = 1\n",
        "      #   count += 1\n",
        "      #   queue.append((nx, ny))\n",
        "      if nx < 0 or nx >= M or ny < 0 or ny >= N:\n",
        "        continue\n",
        "      if paper[nx][ny] == 0:\n",
        "        paper[nx][ny] = 1 # nx : 4, ny :3 \n",
        "        count += 1\n",
        "        queue.append((nx,ny))\n",
        "  return count\n",
        "\n",
        "\n",
        "  # dfs방식으로 풀어보기\n",
        "M, N, K = map(int, input().split())\n",
        "\n",
        "paper = [[0]*N for _ in range(M)]\n",
        "\n",
        "# 상자 좌표 받고 채우기\n",
        "for _ in range(K):\n",
        "  x1,y1,x2,y2 = map(int,input().split())\n",
        "  for i in range(y1, y2):\n",
        "      for j in range(x1, x2):\n",
        "          paper[i][j] = 1\n",
        "\n",
        "result=[]\n",
        "for i in range(M):\n",
        "  for j in range(N):\n",
        "    if(paper[i][j] == 0):\n",
        "      result.append(bfs(i,j))\n",
        "\n",
        "result.sort()\n",
        "print(result)"
      ],
      "metadata": {
        "id": "LhmszcLQt-I1",
        "colab": {
          "base_uri": "https://localhost:8080/"
        },
        "outputId": "956c6650-878f-4db7-bb7e-d84b05de8bbb"
      },
      "execution_count": 7,
      "outputs": [
        {
          "output_type": "stream",
          "name": "stdout",
          "text": [
            "5 7 3\n",
            "0 2 4 4\n",
            "1 1 2 5\n",
            "4 0 6 2\n",
            "[1, 7, 13]\n"
          ]
        }
      ]
    }
  ]
}
