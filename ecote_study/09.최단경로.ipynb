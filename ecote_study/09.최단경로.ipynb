{
  "nbformat": 4,
  "nbformat_minor": 0,
  "metadata": {
    "colab": {
      "provenance": [],
      "authorship_tag": "ABX9TyPexn6eDVmkC7OHhxnTZv/h"
    },
    "kernelspec": {
      "name": "python3",
      "display_name": "Python 3"
    },
    "language_info": {
      "name": "python"
    }
  },
  "cells": [
    {
      "cell_type": "markdown",
      "source": [
        "### 최단 경로 알고리즘\n",
        "말 그대로 가장 짧은 경로를 찾는 알고리즘  \n",
        "종류\n",
        "* 다익스트라 최단 경로 알고리즘\n",
        "* 플로이드 워셜 알고리즘 \n",
        "* 벨만 포드 알고리즘  \n"
      ],
      "metadata": {
        "id": "Y0IEMsVFzBgp"
      }
    },
    {
      "cell_type": "markdown",
      "source": [
        "#### 다익스트라 최단 경로 알고리즘\n"
      ],
      "metadata": {
        "id": "l-YU3Teaza6p"
      }
    },
    {
      "cell_type": "code",
      "execution_count": null,
      "metadata": {
        "id": "vBpGe6Cxyyip"
      },
      "outputs": [],
      "source": []
    }
  ]
}