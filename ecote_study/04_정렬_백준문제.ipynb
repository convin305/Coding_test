{
  "nbformat": 4,
  "nbformat_minor": 0,
  "metadata": {
    "colab": {
      "provenance": [],
      "authorship_tag": "ABX9TyNzQOvg9upZQX4wcYjg6y7y"
    },
    "kernelspec": {
      "name": "python3",
      "display_name": "Python 3"
    },
    "language_info": {
      "name": "python"
    }
  },
  "cells": [
    {
      "cell_type": "markdown",
      "source": [
        "### 18870.좌표 압축\n",
        "https://www.acmicpc.net/problem/18870  \n"
      ],
      "metadata": {
        "id": "HFcspiThj9bu"
      }
    },
    {
      "cell_type": "code",
      "execution_count": null,
      "metadata": {
        "colab": {
          "base_uri": "https://localhost:8080/"
        },
        "id": "dinPBsQ4j6mo",
        "outputId": "f7a09ac7-b1e5-4044-8420-d557a79c40c8"
      },
      "outputs": [
        {
          "output_type": "stream",
          "name": "stdout",
          "text": [
            "6\n",
            "1000 999 1000 999 1000 999\n",
            "1 0 1 0 1 0 "
          ]
        }
      ],
      "source": [
        "N = int(input())\n",
        "\n",
        "data = list(map(int,input().split()))\n",
        "\n",
        "# key:value로 해서 \n",
        "data_sorted = list(sorted(set(data)))\n",
        "data_sorted = {data_sorted[i]:i for i in range (len(data_sorted))}\n",
        "\n",
        "for i in range(N):\n",
        "  print(data_sorted[data[i]],end=' ')"
      ]
    },
    {
      "cell_type": "markdown",
      "source": [
        "### 1181.단어 정렬\n",
        "https://www.acmicpc.net/problem/1181  \n",
        "* 정렬 조건\n",
        "  * 길이가 짧은 것부터\n",
        "  * 길이가 같으면 사전 순으로\n",
        "  * 중복된 단어는 제거"
      ],
      "metadata": {
        "id": "g6HVIzNmMelx"
      }
    },
    {
      "cell_type": "code",
      "source": [
        "# 중복된 단어는 set으로 제거\n",
        "# 이후 해당 단어의 개수를 세서 튜플로 만들고, 튜플을 정렬 -> 내부적으로 알아서 정렬됨\n",
        "# 정렬된 걸 하나씩 출력\n",
        "\n",
        "N = int(input())\n",
        "data = []\n",
        "for _ in range(N):\n",
        "  data.append(input())\n",
        "\n",
        "data_sorted = []\n",
        "for i in set(data):\n",
        "  data_sorted.append((len(i),i))\n",
        "data_sorted = sorted(data_sorted)\n",
        "for word in data_sorted:\n",
        "  print(word[1])"
      ],
      "metadata": {
        "id": "6fFAx-KooIp-",
        "colab": {
          "base_uri": "https://localhost:8080/"
        },
        "outputId": "557cb54b-d3d5-4d29-f42b-b2862814cad6"
      },
      "execution_count": null,
      "outputs": [
        {
          "output_type": "stream",
          "name": "stdout",
          "text": [
            "13\n",
            "but\n",
            "i\n",
            "wont\n",
            "hesitate\n",
            "no\n",
            "more\n",
            "no\n",
            "more\n",
            "it\n",
            "cannot\n",
            "wait\n",
            "im\n",
            "yours\n",
            "i\n",
            "im\n",
            "it\n",
            "no\n",
            "but\n",
            "more\n",
            "wait\n",
            "wont\n",
            "yours\n",
            "cannot\n",
            "hesitate\n"
          ]
        }
      ]
    },
    {
      "cell_type": "markdown",
      "source": [
        "### 1026.보물\n",
        "https://www.acmicpc.net/problem/1026  \n",
        "\n",
        "* 조건\n",
        "  * 배열 A와 B를 곱해서 만들 수 있는 가장 작은 수 출력\n",
        "  * 단, 배열 B는 정렬하지 않아야 함"
      ],
      "metadata": {
        "id": "nmaJodOQ8WQO"
      }
    },
    {
      "cell_type": "code",
      "source": [
        "N = int(input())\n",
        "\n",
        "# array A, B\n",
        "A = list(map(int, input().split()))\n",
        "B = list(map(int, input().split()))\n",
        "\n",
        "# 사실은 그냥 A랑 B를 A는 오름차순, B는 내림차순으로 소팅하면 되는거 아닌가 싶지만\n",
        "# B를 정렬하면 안된다고 하니까..\n",
        "# A는 오름차순으로 정렬, B는 큰 수부터 하나씩 뽑아오기\n",
        "\n",
        "A = sorted(A)\n",
        "total = 0\n",
        "for i, a in enumerate(A):\n",
        "  b = B.pop(B.index(max(B)))\n",
        "  total += b*a\n",
        "\n",
        "print(total)"
      ],
      "metadata": {
        "colab": {
          "base_uri": "https://localhost:8080/"
        },
        "id": "0JkrhMmc8aG4",
        "outputId": "f5c80606-05f2-46c6-f4c0-987a344f9739"
      },
      "execution_count": null,
      "outputs": [
        {
          "output_type": "stream",
          "name": "stdout",
          "text": [
            "5\n",
            "1 1 1 6 0\n",
            "2 7 8 3 1\n",
            "18\n"
          ]
        }
      ]
    },
    {
      "cell_type": "markdown",
      "source": [
        "### 10989.수 정렬3\n",
        "https://www.acmicpc.net/problem/10989  \n",
        "N개의 수가 주어졌을 때, 이를 오름차순으로 정렬하는 프로그램을 작성  \n",
        "-> 백준에서 돌렸을 때 초과가 나옴.\n"
      ],
      "metadata": {
        "id": "UN2KkvmPBzyi"
      }
    },
    {
      "cell_type": "code",
      "source": [
        "10\n",
        "5\n",
        "2\n",
        "3\n",
        "1\n",
        "4\n",
        "2\n",
        "3\n",
        "5\n",
        "1\n",
        "7"
      ],
      "metadata": {
        "id": "iEMq6ZCq9e59"
      },
      "execution_count": null,
      "outputs": []
    },
    {
      "cell_type": "code",
      "source": [
        "N = int(input())\n",
        "data = []\n",
        "for _ in range(N):\n",
        "  data.append(int(input()))\n",
        "\n",
        "data_sorted= sorted(data)\n",
        "for i in data_sorted:\n",
        "  print(i)"
      ],
      "metadata": {
        "colab": {
          "base_uri": "https://localhost:8080/"
        },
        "id": "iYzsboELCakW",
        "outputId": "ad3e5932-1468-4875-cd5b-9a3e83a3c5e2"
      },
      "execution_count": null,
      "outputs": [
        {
          "output_type": "stream",
          "name": "stdout",
          "text": [
            "10\n",
            "5\n",
            "2\n",
            "3\n",
            "1\n",
            "4\n",
            "2\n",
            "3\n",
            "5\n",
            "1\n",
            "7\n",
            "1\n",
            "1\n",
            "2\n",
            "2\n",
            "3\n",
            "3\n",
            "4\n",
            "5\n",
            "5\n",
            "7\n"
          ]
        }
      ]
    }
  ]
}