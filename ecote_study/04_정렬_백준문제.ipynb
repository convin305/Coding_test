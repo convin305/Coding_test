{
  "nbformat": 4,
  "nbformat_minor": 0,
  "metadata": {
    "colab": {
      "provenance": [],
      "authorship_tag": "ABX9TyM0EIhGNwAk9u3+zYo/pXrS"
    },
    "kernelspec": {
      "name": "python3",
      "display_name": "Python 3"
    },
    "language_info": {
      "name": "python"
    }
  },
  "cells": [
    {
      "cell_type": "markdown",
      "source": [
        "### 좌표 압축\n",
        "https://www.acmicpc.net/problem/18870  \n"
      ],
      "metadata": {
        "id": "HFcspiThj9bu"
      }
    },
    {
      "cell_type": "code",
      "execution_count": null,
      "metadata": {
        "colab": {
          "base_uri": "https://localhost:8080/"
        },
        "id": "dinPBsQ4j6mo",
        "outputId": "f7a09ac7-b1e5-4044-8420-d557a79c40c8"
      },
      "outputs": [
        {
          "output_type": "stream",
          "name": "stdout",
          "text": [
            "6\n",
            "1000 999 1000 999 1000 999\n",
            "1 0 1 0 1 0 "
          ]
        }
      ],
      "source": [
        "N = int(input())\n",
        "\n",
        "data = list(map(int,input().split()))\n",
        "\n",
        "# key:value로 해서 \n",
        "data_sorted = list(sorted(set(data)))\n",
        "data_sorted = {data_sorted[i]:i for i in range (len(data_sorted))}\n",
        "\n",
        "for i in range(N):\n",
        "  print(data_sorted[data[i]],end=' ')"
      ]
    },
    {
      "cell_type": "markdown",
      "source": [
        "### 단어 정렬\n",
        "https://www.acmicpc.net/problem/1181  \n",
        "* 정렬 조건\n",
        "  * 길이가 짧은 것부터\n",
        "  * 길이가 같으면 사전 순으로\n",
        "  * 중복된 단어는 제거"
      ],
      "metadata": {
        "id": "g6HVIzNmMelx"
      }
    },
    {
      "cell_type": "code",
      "source": [
        "# 중복된 단어는 set으로 제거\n",
        "# 이후 해당 단어의 개수를 세서 튜플로 만들고, 튜플을 정렬 -> 내부적으로 알아서 정렬됨\n",
        "# 정렬된 걸 하나씩 출력\n",
        "\n",
        "N = int(input())\n",
        "data = []\n",
        "for _ in range(N):\n",
        "  data.append(input())\n",
        "\n",
        "data_sorted = []\n",
        "for i in set(data):\n",
        "  data_sorted.append((len(i),i))\n",
        "data_sorted = sorted(data_sorted)\n",
        "for word in data_sorted:\n",
        "  print(word[1])"
      ],
      "metadata": {
        "id": "6fFAx-KooIp-",
        "colab": {
          "base_uri": "https://localhost:8080/"
        },
        "outputId": "557cb54b-d3d5-4d29-f42b-b2862814cad6"
      },
      "execution_count": 28,
      "outputs": [
        {
          "output_type": "stream",
          "name": "stdout",
          "text": [
            "13\n",
            "but\n",
            "i\n",
            "wont\n",
            "hesitate\n",
            "no\n",
            "more\n",
            "no\n",
            "more\n",
            "it\n",
            "cannot\n",
            "wait\n",
            "im\n",
            "yours\n",
            "i\n",
            "im\n",
            "it\n",
            "no\n",
            "but\n",
            "more\n",
            "wait\n",
            "wont\n",
            "yours\n",
            "cannot\n",
            "hesitate\n"
          ]
        }
      ]
    }
  ]
}