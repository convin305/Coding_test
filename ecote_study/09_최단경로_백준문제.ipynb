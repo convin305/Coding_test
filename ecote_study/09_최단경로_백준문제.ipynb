{
  "nbformat": 4,
  "nbformat_minor": 0,
  "metadata": {
    "colab": {
      "provenance": [],
      "authorship_tag": "ABX9TyN6YVI3jLjfxoXDwCBlXXsn"
    },
    "kernelspec": {
      "name": "python3",
      "display_name": "Python 3"
    },
    "language_info": {
      "name": "python"
    }
  },
  "cells": [
    {
      "cell_type": "markdown",
      "source": [
        "### 11404 플로이드\n",
        "https://www.acmicpc.net/problem/11404\n",
        "모든 도시의 쌍에 대해서 도시 A에서 B로 가는데 필요한 비용의 최솟값\n",
        "-> 대각행렬의 경우에는 0이 됨"
      ],
      "metadata": {
        "id": "Jb3qISNJxMdo"
      }
    },
    {
      "cell_type": "code",
      "execution_count": null,
      "metadata": {
        "id": "yqU9RnECP8Ge",
        "colab": {
          "base_uri": "https://localhost:8080/"
        },
        "outputId": "1549d716-e95a-4799-9811-5ef272a9c1a9"
      },
      "outputs": [
        {
          "name": "stdout",
          "output_type": "stream",
          "text": [
            "5\n",
            "14\n",
            "1 2 2\n",
            "1 3 3\n",
            "1 4 1\n",
            "1 5 10\n",
            "2 4 2\n",
            "3 4 1\n",
            "3 5 1\n",
            "4 5 3\n",
            "3 5 10\n",
            "3 1 8\n",
            "1 4 2\n",
            "5 1 7\n",
            "3 4 2\n",
            "5 2 4\n"
          ]
        }
      ],
      "source": [
        "# 도시개수\n",
        "n = int(input())\n",
        "# n x n 행렬 생성 (최대 100,000)\n",
        "# 인덱스는 0부터 시작인데 도시는 1부터 시작이라 일단 n+1해줌\n",
        "data = [[100001 for _ in range(n+1)] for _ in range(n+1)]\n",
        "\n",
        "# 버스 개수\n",
        "m = int(input())\n",
        "\n",
        "# 버스 정보\n",
        "for _ in range(m):\n",
        "  start, end, cost = map(int,input().split())\n",
        "  # 기존것과 비교해서 더 작은 경우를 넣기\n",
        "  data[start][end] = min(data[start][end], cost)"
      ]
    },
    {
      "cell_type": "code",
      "source": [
        "# 모든 도시의 쌍 (A, B)에 대해서 도시 A에서 B로 가는데 필요한 비용의 최솟값을 찾아야 함\n",
        "# 하나씩 돌면서 다 가져오기\n",
        "for i in range(1,n+1):\n",
        "  for j in range(1,n+1):\n",
        "    for k in range(1,n+1):\n",
        "      if j == k: # 자기 자신으로 가는 경우\n",
        "        data[j][k] = 0\n",
        "      else :\n",
        "        data[j][k] = min(data[j][k], data[j][i]+data[i][k])\n",
        "\n",
        "# 출력\n",
        "for row in data[1:]:\n",
        "    for col in row[1:]:\n",
        "        if col == 100001: # 이거 왜 하는거지\n",
        "            print(0, end = \" \")\n",
        "        else:\n",
        "            print(col, end = \" \")\n",
        "    print()"
      ],
      "metadata": {
        "colab": {
          "base_uri": "https://localhost:8080/"
        },
        "id": "x6NzVM-mPnlr",
        "outputId": "580691e4-6f16-4382-9cf9-097fe9bced55"
      },
      "execution_count": null,
      "outputs": [
        {
          "output_type": "stream",
          "name": "stdout",
          "text": [
            "0 2 3 1 4 \n",
            "12 0 15 2 5 \n",
            "8 5 0 1 1 \n",
            "10 7 13 0 3 \n",
            "7 4 10 6 0 \n"
          ]
        }
      ]
    },
    {
      "cell_type": "markdown",
      "source": [
        "### 1956 운동\n",
        "https://www.acmicpc.net/problem/1956\n",
        "최소 사이클의 도로 길이의 합을 출력\n",
        "운동 경로를 찾는 것이 불가능한 경우에는 -1을 출력"
      ],
      "metadata": {
        "id": "tywzMoxWxUmY"
      }
    },
    {
      "cell_type": "code",
      "source": [
        "# V개 마을의 수, 도로는 E개\n",
        "V,E = map(int,input().split())\n",
        "# 만 이하의 수\n",
        "data = [[10001 for _ in range(V+1)] for _ in range(V+1)]\n",
        "\n",
        "# 운동 경로(a에서 b로 가는 도로의 길이가 c)\n",
        "for _ in range(E):\n",
        "    a, b, c = map(int, input().split())\n",
        "    data[a][b] = c\n",
        "\n",
        "# 돌면서 경로탐색\n",
        "for i in range(1, V+1):\n",
        "    for j in range(1, V+1):\n",
        "        for k in range(1, V+1):\n",
        "          data[j][k] = min(data[j][k], data[j][i]+data[i][k])\n",
        "\n",
        "# 돌아와야 하니까 대각행렬 확인\n",
        "result = 10001\n",
        "for i in range(1, V+1):\n",
        "    result = min(result, data[i][i])\n",
        "\n",
        "#최소값이 없으면 -1, 있으면 최소값을 출력\n",
        "if result == 10001:\n",
        "    print(-1)\n",
        "else:\n",
        "    print(result)"
      ],
      "metadata": {
        "id": "u9RDSGy1xYiM",
        "colab": {
          "base_uri": "https://localhost:8080/"
        },
        "outputId": "03108342-d38a-4433-a3a8-42586dbff849"
      },
      "execution_count": 1,
      "outputs": [
        {
          "output_type": "stream",
          "name": "stdout",
          "text": [
            "3 4\n",
            "1 2 1\n",
            "3 2 1\n",
            "1 3 5\n",
            "2 3 2\n",
            "3\n"
          ]
        }
      ]
    },
    {
      "cell_type": "markdown",
      "source": [
        "### 11657 타임머신\n",
        "https://www.acmicpc.net/problem/11657\n",
        "시간을 무한히 오래 전으로 되돌릴 수 있다면 첫째 줄에 -1을 출력\n",
        "렇지 않다면 N-1개 줄에 걸쳐 각 줄에 1번 도시에서 출발해 2번 도시, 3번 도시, ..., N번 도시로 가는 가장 빠른 시간을 순서대로 출력\n",
        "https://www.youtube.com/watch?v=Ppimbaxm8d8&feature=youtu.be&ab_channel=%EB%8F%99%EB%B9%88%EB%82%98"
      ],
      "metadata": {
        "id": "9auv4_nAxY58"
      }
    },
    {
      "cell_type": "code",
      "source": [
        "def bellman_ford(start):\n",
        "  # 시작 노드에 대해서 초기화\n",
        "  dist[start] = 0\n",
        "  # 전체 n번의 라운드를 반복\n",
        "  for i in range(1, N + 1):\n",
        "    # 매 번 모든 간선을 확인\n",
        "    for j in range(M):\n",
        "      now, next, cost = edges[j][0], edges[j][1], edges[j][2]\n",
        "      # 현재 간선을 거쳐서 다른 노드로 이동하는 거리가 더 짧은 경우\n",
        "      if dist[now] != INF and dist[next] > dist[now] + cost:\n",
        "        dist[next] = dist[now] + cost\n",
        "        # n번째 라운드에서도 값이 갱신된다면 음수 순환 존재\n",
        "        if i == N:\n",
        "          return True\n",
        "  return False"
      ],
      "metadata": {
        "id": "AEVSDnXsoIch"
      },
      "execution_count": 10,
      "outputs": []
    },
    {
      "cell_type": "code",
      "source": [
        "# 도시의 개수 N개, 버스노선의 수 M개\n",
        "N, M = map(int, input().split())\n",
        "\n",
        "# 모든 간선에 대한 정보를 담는 리스트\n",
        "edges = []\n",
        "\n",
        "# 최단 거리 테이블을 모두 초기화\n",
        "INF = int(1e9)\n",
        "dist = [INF] * (N+1)\n",
        "\n",
        "# a에서 b로 가는 시간이 c만큼\n",
        "for _ in range(M):\n",
        "    a, b, c = map(int, input().split())\n",
        "    edges.append([a, b, c])\n",
        "\n",
        "# 시작노드 1번부터 벨만포드 알고리즘 수행\n",
        "negative_cycle = bellman_ford(1)\n",
        "\n",
        "# 네거티브 사이클이 있거나 도달할 수 없는 경우 -1\n",
        "# 도달 가능하면 가장 빠른 시간 순서대로 출력\n",
        "if negative_cycle:\n",
        "    print(-1)\n",
        "else:\n",
        "    for i in range(2, N + 1):\n",
        "        # 도달할 수 없는 경우\n",
        "        if dist[i] == INF:\n",
        "            print(-1)\n",
        "        # 도달 가능한 경우\n",
        "        else:\n",
        "            print(dist[i])"
      ],
      "metadata": {
        "id": "nqIWRYxGxcFF",
        "colab": {
          "base_uri": "https://localhost:8080/"
        },
        "outputId": "2bb708e6-86ce-4002-80fa-9e03d57b022e"
      },
      "execution_count": 11,
      "outputs": [
        {
          "output_type": "stream",
          "name": "stdout",
          "text": [
            "3 4\n",
            "1 2 4\n",
            "1 3 3\n",
            "2 3 -1\n",
            "3 1 -2\n",
            "4\n",
            "3\n"
          ]
        }
      ]
    }
  ]
}