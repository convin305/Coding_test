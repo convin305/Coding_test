{
  "nbformat": 4,
  "nbformat_minor": 0,
  "metadata": {
    "colab": {
      "provenance": [],
      "authorship_tag": "ABX9TyMtWJ28nZnmPYMQoPbVi7K/"
    },
    "kernelspec": {
      "name": "python3",
      "display_name": "Python 3"
    },
    "language_info": {
      "name": "python"
    }
  },
  "cells": [
    {
      "cell_type": "markdown",
      "source": [
        "### 2.부품 찾기"
      ],
      "metadata": {
        "id": "iyBQq9mj1Y2X"
      }
    },
    {
      "cell_type": "code",
      "execution_count": 29,
      "metadata": {
        "id": "-bGGcklyjvOO",
        "colab": {
          "base_uri": "https://localhost:8080/"
        },
        "outputId": "14414334-11e4-4c8d-f083-c44812da9252"
      },
      "outputs": [
        {
          "output_type": "stream",
          "name": "stdout",
          "text": [
            "5\n",
            "8 3 7 9 2\n",
            "3\n",
            "5 7 9\n",
            "no yes yes "
          ]
        }
      ],
      "source": [
        "# 가게의 부품 개수\n",
        "N = int(input())\n",
        "bupum = set(map(int, input().split()))\n",
        "\n",
        "# 손님이 확인 요청한 부품 개수\n",
        "M = int(input())\n",
        "need = list(map(int, input().split()))\n",
        "\n",
        "# 하나씩 확인\n",
        "for i in need:\n",
        "    if i in bupum:\n",
        "        print('yes', end=' ')\n",
        "    else:\n",
        "        print('no', end=' ')"
      ]
    },
    {
      "cell_type": "markdown",
      "source": [
        "### 3.떡볶이 떡 만들기"
      ],
      "metadata": {
        "id": "5NMKZ-mP0U-p"
      }
    },
    {
      "cell_type": "code",
      "source": [
        "# 떡 개수와 떡 길이\n",
        "N, M = map(int, input().split())\n",
        "# 떡의 개별 높이\n",
        "tteoks = list(map(int, input().split()))\n",
        "\n",
        "# max_len에서 하나씩 줄여가면서 남은걸 빼면 되지 않을까 싶은데\n",
        "max_len = max(tteoks)\n",
        "\n",
        "total=0\n",
        "while total < M :\n",
        "  total = 0\n",
        "  for each in tteoks:\n",
        "    if each > max_len:\n",
        "      total += each - max_len\n",
        "  print(max_len,\" \",total) #체크용\n",
        "  if total == M:\n",
        "    break\n",
        "  max_len -= 1\n",
        "  \n",
        "\n",
        "print(max_len)"
      ],
      "metadata": {
        "colab": {
          "base_uri": "https://localhost:8080/"
        },
        "id": "uyJkLJhO0W3o",
        "outputId": "84d92db4-89ca-4688-bfdc-250ab05f8b89"
      },
      "execution_count": 28,
      "outputs": [
        {
          "output_type": "stream",
          "name": "stdout",
          "text": [
            "4 6\n",
            "19 15 10 17\n",
            "19   0\n",
            "18   1\n",
            "17   2\n",
            "16   4\n",
            "15   6\n",
            "15\n"
          ]
        }
      ]
    }
  ]
}