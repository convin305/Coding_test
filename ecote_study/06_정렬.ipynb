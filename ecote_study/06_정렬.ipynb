{
  "nbformat": 4,
  "nbformat_minor": 0,
  "metadata": {
    "colab": {
      "provenance": [],
      "authorship_tag": "ABX9TyPQVlOKsnKpB8jSEFbgkE++"
    },
    "kernelspec": {
      "name": "python3",
      "display_name": "Python 3"
    },
    "language_info": {
      "name": "python"
    }
  },
  "cells": [
    {
      "cell_type": "markdown",
      "source": [
        "## 정렬 \n",
        "정렬 : 데이터를 특정한 기준에 따라서 순서대로 나열하는 것  "
      ],
      "metadata": {
        "id": "r3-oI_0X9VQ1"
      }
    },
    {
      "cell_type": "markdown",
      "source": [
        "\n",
        "### 선택 정렬\n",
        "전체 중 가장 작은 데이터를 선택해 맨 앞과 바꾸고, 그 다음으로 작은 건 두번째와 바꾸는 과정을 반복하는 것  \n",
        "**시간복잡도**  \n",
        "\n",
        "매번 가장 작은 수를 찾기 위해서 비교 연산 필요.  \n",
        "연산 횟수는 n번부터 마지막 2까지. n*(n+1)/2 번을 수행하므로 asymptotic하게 O(n^2)로 표현할 수 있음"
      ],
      "metadata": {
        "id": "5L7FOltk-Rto"
      }
    },
    {
      "cell_type": "code",
      "execution_count": null,
      "metadata": {
        "id": "_MPxBIg29TCH"
      },
      "outputs": [],
      "source": [
        "array = [7,5,9,0,3,1,6,2,4,8]\n",
        "\n",
        "for i in range(len(array)):\n",
        "  min_index = i # 가장 작은 원소의 인덱스 \n",
        "  for j in range(i+1,len(array)):\n",
        "    if array[min_index] > array[j]:\n",
        "      min_index=j # 작은 인덱스를 찾아가며 min_index업데이트\n",
        "  array[i], array[min_index] = array[min_index], array[i] # 원소 위치 바꾸기 \n",
        "\n",
        "print(array)"
      ]
    },
    {
      "cell_type": "code",
      "source": [
        "# 파이썬 swap 코드\n",
        "# 0인덱스와 1인덱스의 원소 교체\n",
        "array = [3,5]\n",
        "array[0], array[1] = array[1],array[0]\n",
        "\n",
        "print(array)"
      ],
      "metadata": {
        "id": "B6M_FX0m_qk1"
      },
      "execution_count": null,
      "outputs": []
    },
    {
      "cell_type": "markdown",
      "source": [
        "### 삽입정렬\n",
        "데이터를 적절한 위치에 삽입한다는 의미.  \n",
        "앞의 데이터는 이미 정렬되어 있다는 것을 가정한다.  \n",
        "첫 번째 데이터는 이미 정렬되어 있다고 가정하므로 두 번째 데이터부터 시작.  \n",
        "정렬이 이루어진 원소는 항상 오름차순을 유지한다는 특징이 있음.  \n",
        "**시간복잡도**  \n",
        "일반적으로 O(N^2), 하지만 이미 정렬이 잘 되어 있는 경우 O(N)로 다른 알고리즘들보다 빠르게 동작하는 특징"
      ],
      "metadata": {
        "id": "k7fNCZIFASm1"
      }
    },
    {
      "cell_type": "code",
      "source": [
        "array = [7,5,9,0,3,1,6,2,4,8]\n",
        "\n",
        "for i in range(1,len(array)):\n",
        "  for j in range(i,0,-1) : # 인덱스 i 부터 1까지 감소하며 반복\n",
        "    if array[j] < array[j-1]: # 한 칸씩 왼쪽으로 이동\n",
        "      array[j], array[j-1] = array[j-1], array[j]\n",
        "    else:\n",
        "      break\n",
        "print(array)"
      ],
      "metadata": {
        "id": "6Pf3E6aAAdUY"
      },
      "execution_count": null,
      "outputs": []
    },
    {
      "cell_type": "markdown",
      "source": [
        "### 퀵정렬\n",
        "기준 데이터를 설정하고 큰 수와 작은수를 교한한다음 리스트를 반으로 나누는 식으로 동작  \n",
        "pivot이라는 개념이 사용됨 : 교환하기 위한 기준점  \n",
        "피벗을 설정하고 나누는 방식은 여러가지가 있는데, 대표적으로는 Hoare Partition이 있음  \n",
        "**시간복잡도**  \n",
        "평균적으로 O(NlogN)의 시간 복잡도를 가지고 있음  \n",
        "데이터가 많을수록 더 다른 알고리즘들과 복잡도가 차이가 난다  \n",
        "단, 최악의 경우 O(N^)인데 이 경우는 이미 정렬된 경우임  "
      ],
      "metadata": {
        "id": "_m5VOjXjBWjX"
      }
    },
    {
      "cell_type": "code",
      "source": [
        "array = [5, 7, 9, 0, 3, 1, 6, 2, 4, 8]\n",
        "\n",
        "def quick_sort(array, start, end):\n",
        "    if start >= end: # 원소가 1개인 경우 종료\n",
        "        return\n",
        "    pivot = start # 피벗은 첫 번째 원소\n",
        "    left = start + 1\n",
        "    right = end\n",
        "    while(left <= right):\n",
        "        # 피벗보다 큰 데이터를 찾을 때까지 반복 \n",
        "        while(left <= end and array[left] <= array[pivot]):\n",
        "            left += 1\n",
        "        # 피벗보다 작은 데이터를 찾을 때까지 반복\n",
        "        while(right > start and array[right] >= array[pivot]):\n",
        "            right -= 1\n",
        "        if(left > right): # 엇갈렸다면 작은 데이터와 피벗을 교체\n",
        "            array[right], array[pivot] = array[pivot], array[right]\n",
        "        else: # 엇갈리지 않았다면 작은 데이터와 큰 데이터를 교체\n",
        "            array[left], array[right] = array[right], array[left]\n",
        "    # 분할 이후 왼쪽 부분과 오른쪽 부분에서 각각 정렬 수행\n",
        "    quick_sort(array, start, right - 1)\n",
        "    quick_sort(array, right + 1, end)\n",
        "\n",
        "quick_sort(array, 0, len(array) - 1)\n",
        "print(array)"
      ],
      "metadata": {
        "id": "ptLhGi-LCKmp"
      },
      "execution_count": null,
      "outputs": []
    },
    {
      "cell_type": "code",
      "source": [
        "# 파이썬의 장점을 살린 퀵소트\n",
        "array = [5, 7, 9, 0, 3, 1, 6, 2, 4, 8]\n",
        "\n",
        "def quick_sort(array):\n",
        "    # 리스트가 하나 이하의 원소만을 담고 있다면 종료\n",
        "    if len(array) <= 1:\n",
        "        return array\n",
        "\n",
        "    pivot = array[0] # 피벗은 첫 번째 원소\n",
        "    tail = array[1:] # 피벗을 제외한 리스트\n",
        "\n",
        "    left_side = [x for x in tail if x <= pivot] # 분할된 왼쪽 부분\n",
        "    right_side = [x for x in tail if x > pivot] # 분할된 오른쪽 부분\n",
        "\n",
        "    # 분할 이후 왼쪽 부분과 오른쪽 부분에서 각각 정렬을 수행하고, 전체 리스트를 반환\n",
        "    return quick_sort(left_side) + [pivot] + quick_sort(right_side)\n",
        "\n",
        "print(quick_sort(array))"
      ],
      "metadata": {
        "id": "yE4B_sGdCfIe"
      },
      "execution_count": null,
      "outputs": []
    },
    {
      "cell_type": "markdown",
      "source": [
        "### 계수 정렬 Counting Sort\n",
        "특정 조건이 부합할때만 사용가능하지만 매우 빠른 정렬 알고리즘  \n",
        "모든 범위를 담을 수 있는 크리의 리스트를 선언해야 하기 때문에 작은수와 큰 수의 차이가 너무 크지 않은 경우에 사용 가능  \n",
        "비교 기반이 아니라 별도의 리스트를 선언하고, 정렬에 대한 정보를 담는다는 것이 특징  \n",
        "**시간복잡도**  \n",
        "최악의 경우에도 수행시간 O(N+K)를 보장함  \n",
        "**공간복잡도**  \n",
        "O(N+K)  \n",
        "동일한 값을 여러개 가지는 경우에 효과적"
      ],
      "metadata": {
        "id": "b3RgWBLQDBtR"
      }
    },
    {
      "cell_type": "code",
      "source": [
        "# 모든 원소의 값이 0보다 크거나 같다고 가정\n",
        "array = [7, 5, 9, 0, 3, 1, 6, 2, 9, 1, 4, 8, 0, 5, 2]\n",
        "# 모든 범위를 포함하는 리스트 선언 (모든 값은 0으로 초기화)\n",
        "count = [0] * (max(array) + 1)\n",
        "\n",
        "for i in range(len(array)):\n",
        "    count[array[i]] += 1 # 각 데이터에 해당하는 인덱스의 값 증가\n",
        "\n",
        "for i in range(len(count)): # 리스트에 기록된 정렬 정보 확인\n",
        "    for j in range(count[i]):\n",
        "        print(i, end=' ') # 띄어쓰기를 구분으로 등장한 횟수만큼 인덱스 출력"
      ],
      "metadata": {
        "id": "0Fr47peDDkPP"
      },
      "execution_count": null,
      "outputs": []
    },
    {
      "cell_type": "markdown",
      "source": [
        "### 파이썬의 정렬 라이브러리\n",
        "파이썬에서는 기본적으로 sorted()함수를 제공하며, 이는 기본적으로 O(NlogN)의 시간복잡도를 보장  \n",
        "* 문제 유형\n",
        "  * 정렬 라이브러리로 풀 수 있는 문제\n",
        "  * 정렬 알고리즘의 원리에 대해 물어보는 문제\n",
        "  * 더 빠른 정렬이 필요한 문제"
      ],
      "metadata": {
        "id": "Dju-I3ywD2EF"
      }
    },
    {
      "cell_type": "code",
      "source": [
        "array = [7, 5, 9, 0, 3, 1, 6, 2, 4, 8]\n",
        "\n",
        "result = sorted(array)\n",
        "print(result)"
      ],
      "metadata": {
        "id": "qlJPz13aEArU"
      },
      "execution_count": null,
      "outputs": []
    },
    {
      "cell_type": "code",
      "source": [
        "array = [7, 5, 9, 0, 3, 1, 6, 2, 4, 8]\n",
        "\n",
        "array.sort()\n",
        "print(array)"
      ],
      "metadata": {
        "id": "-ts6jmosEC1x"
      },
      "execution_count": null,
      "outputs": []
    },
    {
      "cell_type": "code",
      "source": [
        "# sorted 또는 sort의 경우 key를 입력으로 받을 수 있음.\n",
        "# key값으로는 하나의 함수가 들어가야 하고, 정렬의 기준이 된다\n",
        "array = [('바나나', 2), ('사과', 5), ('당근', 3)]\n",
        "\n",
        "def setting(data):\n",
        "    return data[1]\n",
        "\n",
        "result = sorted(array, key=setting)\n",
        "print(result)"
      ],
      "metadata": {
        "id": "AUEX9l62EGCS"
      },
      "execution_count": null,
      "outputs": []
    },
    {
      "cell_type": "markdown",
      "source": [
        "### 실전 문제"
      ],
      "metadata": {
        "id": "bM2hO0V7Eho3"
      }
    },
    {
      "cell_type": "markdown",
      "source": [
        "#### 위에서 아래로\n",
        "입력 조건  \n",
        "* 첫째 줄에는 수의 개수 N\n",
        "* 둘째줄부터 N+1까지 N개의 수 입력\n",
        "\n",
        "출력 조건\n",
        "* 내림차순으로 정렬된 결과를 공백으로 구분하여 출력"
      ],
      "metadata": {
        "id": "c-jGTk9REknS"
      }
    },
    {
      "cell_type": "code",
      "source": [
        "N = int(input())\n",
        "array = []\n",
        "\n",
        "for _ in range(N):\n",
        "  array.append(int(input()))\n",
        "\n",
        "array.sort(reverse=True)\n",
        "for i in array:\n",
        "  print(i,end=' ')"
      ],
      "metadata": {
        "colab": {
          "base_uri": "https://localhost:8080/"
        },
        "id": "angLGg0gEkGX",
        "outputId": "335beb0f-71ec-480a-eb7a-3fbdccc10b33"
      },
      "execution_count": 3,
      "outputs": [
        {
          "output_type": "stream",
          "name": "stdout",
          "text": [
            "3\n",
            "15\n",
            "27\n",
            "12\n",
            "27 15 12 "
          ]
        }
      ]
    },
    {
      "cell_type": "markdown",
      "source": [
        "#### 성적이 낮은 순서로 학생 출력\n",
        "입력 조건\n",
        "* 첫번째 줄 : 학생의 수 N\n",
        "* 두번째 ~ N+1번째 줄 : 학생의 이름, 정수가 공백으로 구분되어 입력  \n",
        "\n",
        "출력 조건\n",
        "* 성적이 낮은 순서대로 이름 출력 "
      ],
      "metadata": {
        "id": "4IWbmztsFvI2"
      }
    },
    {
      "cell_type": "code",
      "source": [
        "num = int(input())\n",
        "student_score = []\n",
        "\n",
        "for _ in range(num):\n",
        "  data = input().split()\n",
        "  student_score.append(((data[0],int(data[1]))))\n",
        "\n",
        "student_score = sorted(student_score, key = lambda x :x[1])\n",
        "\n",
        "for student in student_score:\n",
        "  print(student[0], end=' ')"
      ],
      "metadata": {
        "colab": {
          "base_uri": "https://localhost:8080/"
        },
        "id": "RvTmb4tyFMTq",
        "outputId": "5c06737f-4370-4c4c-d192-0278b489eb24"
      },
      "execution_count": 12,
      "outputs": [
        {
          "output_type": "stream",
          "name": "stdout",
          "text": [
            "2\n",
            "홍길동 95\n",
            "이순신 77\n",
            "이순신 홍길동 "
          ]
        }
      ]
    },
    {
      "cell_type": "markdown",
      "source": [
        "#### 두 배열의 원소 교체\n",
        "최대 K번의 배열 A의 원소와 배열B의 원소 하나를 골라서 바꿀 수 있고, 배열 A의 모든 원소의 합이 최대가 되도록 하고 싶음  \n",
        "입력 조건  \n",
        "* 첫번째 줄 : N,K가 공백으로 구분되어 입력  \n",
        "* 두번째 줄 : 배열 A의 원소 입력  \n",
        "* 세번째 줄 : 배열 B의 원소 입력  \n",
        "\n",
        "출력 조건  \n",
        "* 최대 K번의 바꿔치기 연산을 수행, 배열 A의 최대 합을 출력"
      ],
      "metadata": {
        "id": "Olt9dVTfITH-"
      }
    },
    {
      "cell_type": "code",
      "source": [
        "N,K = map(int,input().split())\n",
        "a = list(map(int, input().split()))\n",
        "b = list(map(int, input().split()))\n",
        "\n",
        "a.sort()\n",
        "b.sort(reverse=True)\n",
        "\n",
        "for i in range(K):\n",
        "  if a[i] < b[i]:\n",
        "    a[i], b[i] = b[i], a[i]\n",
        "  else:\n",
        "    break\n",
        "\n",
        "print(sum(a))"
      ],
      "metadata": {
        "colab": {
          "base_uri": "https://localhost:8080/"
        },
        "id": "yB_uUuKEGuA6",
        "outputId": "8134d242-a162-48bb-c23e-2f7443693a7f"
      },
      "execution_count": 15,
      "outputs": [
        {
          "output_type": "stream",
          "name": "stdout",
          "text": [
            "5 3\n",
            "1 2 5 4 3\n",
            "5 5 6 6 5\n",
            "26\n"
          ]
        }
      ]
    }
  ]
}
