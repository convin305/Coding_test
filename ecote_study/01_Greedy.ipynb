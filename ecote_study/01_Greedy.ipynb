{
  "nbformat": 4,
  "nbformat_minor": 0,
  "metadata": {
    "colab": {
      "provenance": [],
      "authorship_tag": "ABX9TyMSVyZgZiDYcEpt/oTVjyIU"
    },
    "kernelspec": {
      "name": "python3",
      "display_name": "Python 3"
    },
    "language_info": {
      "name": "python"
    }
  },
  "cells": [
    {
      "cell_type": "code",
      "source": [
        "import time"
      ],
      "metadata": {
        "id": "l5DBgU30K7mU"
      },
      "execution_count": null,
      "outputs": []
    },
    {
      "cell_type": "markdown",
      "source": [
        "### 1. 모험가 길드"
      ],
      "metadata": {
        "id": "6l_AmEnlIclm"
      }
    },
    {
      "cell_type": "code",
      "execution_count": null,
      "metadata": {
        "colab": {
          "base_uri": "https://localhost:8080/"
        },
        "id": "t49cnDG7IQIH",
        "outputId": "71a4d9a2-a326-4cb2-dbd0-478e01f06b99"
      },
      "outputs": [
        {
          "output_type": "stream",
          "name": "stdout",
          "text": [
            "5\n",
            "1 2 3 4 5\n",
            "0.0002751350402832031\n",
            "1\n"
          ]
        }
      ],
      "source": [
        "N = int(input())\n",
        "chicken = list(map(int, input().split()))\n",
        "chicken.sort()\n",
        "\n",
        "start_time = time.time()\n",
        "\n",
        "member = 0\n",
        "group = 0\n",
        "\n",
        "for c in chicken:\n",
        "  member += 1\n",
        "  if member >= c:\n",
        "    group += 1\n",
        "    member = 0\n",
        "\n",
        "print(time.time() - start_time)\n",
        "print(group)"
      ]
    },
    {
      "cell_type": "markdown",
      "source": [
        "### 2.곱하기 혹은 더하기  \n",
        "문자열 S : 각 자리가 숫자로만 이루어져 있음(20자리 이하)  \n",
        "왼쪽부터 계산하며 곱하기 또는 더하기를 넣어 가장 큰 수를 만들기"
      ],
      "metadata": {
        "id": "EJ0bo3A4LGf8"
      }
    },
    {
      "cell_type": "code",
      "source": [
        "s = list(map(int,input()))\n",
        "\n",
        "start_time = time.time()\n",
        "value = s[0]\n",
        "for num in s[1:]:\n",
        "  if num == 0 or value == 0:\n",
        "    value += num\n",
        "  else : \n",
        "    value = value*num\n",
        "\n",
        "print(time.time()-start_time)\n",
        "print(value)"
      ],
      "metadata": {
        "colab": {
          "base_uri": "https://localhost:8080/"
        },
        "id": "EvnKYHuxKEaU",
        "outputId": "9517c88e-4e0f-4b31-c120-586f7aef996b"
      },
      "execution_count": null,
      "outputs": [
        {
          "output_type": "stream",
          "name": "stdout",
          "text": [
            "02984\n",
            "0.00033354759216308594\n",
            "576\n"
          ]
        }
      ]
    },
    {
      "cell_type": "markdown",
      "source": [
        "### 3.문자열 뒤집기\n",
        "문자열S : 0과 1로만 이루어져 있음  \n",
        "연속된 숫자를 잡고 뒤집어서 문자열S를 동일한 문자로 만들려고 할 때, 최소 행동 횟수  \n",
        "\n",
        "아이디어가 도저히 생각이 안나서 정답을 필사하였습니다..ㅎ"
      ],
      "metadata": {
        "id": "jLhuqso-MYp8"
      }
    },
    {
      "cell_type": "code",
      "source": [
        "data = input()\n",
        "count0 = 0 \n",
        "count1 = 0 \n",
        "\n",
        "if data[0] == '1':\n",
        "    count0 += 1\n",
        "else:\n",
        "    count1 += 1\n",
        "\n",
        "for i in range(len(data) - 1):\n",
        "    if data[i] != data[i + 1]:\n",
        "        if data[i + 1] == '1':\n",
        "            count0 += 1\n",
        "        else:\n",
        "            count1 += 1\n",
        "\n",
        "print(min(count0, count1))"
      ],
      "metadata": {
        "colab": {
          "base_uri": "https://localhost:8080/"
        },
        "id": "7q9KQD6RMHBY",
        "outputId": "c944b0af-13fb-4838-c3cc-b5d909b7aa6f"
      },
      "execution_count": null,
      "outputs": [
        {
          "output_type": "stream",
          "name": "stdout",
          "text": [
            "1001100\n",
            "2\n"
          ]
        }
      ]
    },
    {
      "cell_type": "markdown",
      "source": [
        "### 4.만들 수 없는 금액\n",
        "N : 가지고 있는 동전의 수  \n",
        "output : 가진 동전으로 만들 수 없는 양의 정수 중 최솟값"
      ],
      "metadata": {
        "id": "VqhvCwYWRDBO"
      }
    },
    {
      "cell_type": "code",
      "source": [
        "N = input()\n",
        "coins = list(map(int,input().split()))\n",
        "coins.sort()\n",
        "\n",
        "max_value = 1\n",
        "\n",
        "if coins[0] != 1 :\n",
        "  max_value = 1\n",
        "else : \n",
        "  for coin in coins:\n",
        "    if max_value < coin:\n",
        "        break\n",
        "    max_value += coin\n",
        "\n",
        "print(max_value)"
      ],
      "metadata": {
        "colab": {
          "base_uri": "https://localhost:8080/"
        },
        "id": "62xeizLANYPn",
        "outputId": "8485c5fd-2072-4387-9567-e3b4136840da"
      },
      "execution_count": null,
      "outputs": [
        {
          "output_type": "stream",
          "name": "stdout",
          "text": [
            "6\n",
            "2 3 4 5 6 7\n",
            "1\n"
          ]
        }
      ]
    },
    {
      "cell_type": "markdown",
      "source": [
        "### 5. 볼링공 고르기\n",
        "볼링공 개수 : 총 N개  \n",
        "볼링공의 무게 : 1부터 M까지의 자연수 형태로 존재  \n",
        "output : 두 사람이 볼링공을 고르는 경우의 수"
      ],
      "metadata": {
        "id": "_3JzpsZyUFQ5"
      }
    },
    {
      "cell_type": "code",
      "source": [
        "num, pound = map(int, input().split())\n",
        "balls = list(map(int, input().split()))\n",
        "\n",
        "answer = 0\n",
        "for i in range(num-1):\n",
        "    for j in range(i+1, num):\n",
        "        if balls[i] != balls[j]:\n",
        "            answer += 1\n",
        "\n",
        "print(answer)"
      ],
      "metadata": {
        "colab": {
          "base_uri": "https://localhost:8080/"
        },
        "id": "-FCp7SSgTn83",
        "outputId": "a8dcc46c-4023-4f83-c70e-9b730cbe0c50"
      },
      "execution_count": null,
      "outputs": [
        {
          "output_type": "stream",
          "name": "stdout",
          "text": [
            "5 3\n",
            "1 2 3 2 3\n",
            "8\n"
          ]
        }
      ]
    },
    {
      "cell_type": "markdown",
      "source": [
        "### 6. 무지의 먹방 라이브  \n",
        "실패한 케이스도 있고, 시간 초과도 있어서 다시 해봐야 함 =.."
      ],
      "metadata": {
        "id": "5y9hLu6CKIU8"
      }
    },
    {
      "cell_type": "code",
      "source": [
        "food_times = [3, 1, 2]\n",
        "k = 5\n",
        "\n",
        "def solution(food_times, k):\n",
        "    if sum(food_times) < k:\n",
        "        answer = -1\n",
        "    else : \n",
        "        for i in range(k):\n",
        "            num = i % 3\n",
        "            if food_times[num] != 0:\n",
        "                food_times[num] = food_times[num] - 1\n",
        "            elif food_times[num] == 0:\n",
        "            # 0이 아닌 다음 인덱스를 찾아야 함\n",
        "                while True:\n",
        "                    num += 1\n",
        "                    num = num % 3\n",
        "                    if food_times[num] != 0:\n",
        "                        break\n",
        "                food_times[num] = food_times[num] - 1\n",
        "        answer = (num+1)%3 +1\n",
        "    return answer\n",
        "\n",
        "solution(food_times,5)"
      ],
      "metadata": {
        "colab": {
          "base_uri": "https://localhost:8080/"
        },
        "id": "NSJbXHJwKKhD",
        "outputId": "963b861d-0d2b-45e3-e62f-b5a12cc0c634"
      },
      "execution_count": 62,
      "outputs": [
        {
          "output_type": "execute_result",
          "data": {
            "text/plain": [
              "1"
            ]
          },
          "metadata": {},
          "execution_count": 62
        }
      ]
    }
  ]
}