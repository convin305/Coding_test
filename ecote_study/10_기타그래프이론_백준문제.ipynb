{
  "nbformat": 4,
  "nbformat_minor": 0,
  "metadata": {
    "colab": {
      "provenance": [],
      "authorship_tag": "ABX9TyN5w+ga87/DyrxGKKAtyV8Y"
    },
    "kernelspec": {
      "name": "python3",
      "display_name": "Python 3"
    },
    "language_info": {
      "name": "python"
    }
  },
  "cells": [
    {
      "cell_type": "markdown",
      "source": [
        "### 1717번 집합의 표현\n",
        "https://www.acmicpc.net/problem/1717"
      ],
      "metadata": {
        "id": "mPDQ9EzBwtyb"
      }
    },
    {
      "cell_type": "code",
      "execution_count": null,
      "metadata": {
        "id": "UKiDB3C0wSYF"
      },
      "outputs": [],
      "source": [
        "# 1. 연산의 맨 앞이 0인 경우에는 두 원소를 같은 집합에 넣기\n",
        "# 2. 연산의 맨 앞이 1인 경우에는 같은 집합에 있는지를 확인하기\n",
        "\n",
        "def find_parent(x):\n",
        "    # 초기 상태에서 find_parent(x)하면 x값이 그대로 나와야 함\n",
        "    # 루트 노드를 찾아갈 수 있도록 재귀적으로 작성\n",
        "    if data[x] != x:\n",
        "        data[x] = find_parent(data[x])\n",
        "    return data[x]\n",
        "\n",
        "def union_subset(x,y):\n",
        "    # x와 y원소를 받아서 그 두 개를 합치기\n",
        "    # x가 속한 집합과 y가 속한 집합을 찾아서 그 둘을 합치는 것\n",
        "    x = find_parent(x)\n",
        "    y = find_parent(y)\n",
        "    # 만약 둘이 속한 집합이 다르면 합쳐주기 -> 같은 부모노드를 가지고 있다고 처리\n",
        "    if x != y:\n",
        "        data[x] = y\n",
        "\n",
        "# 시간초과 방지를 위한 처리\n",
        "import sys\n",
        "input = sys.stdin.readline\n",
        "sys.setrecursionlimit(100000)\n",
        "\n",
        "# n+1개의 집합이 존재하므로 range(n+1)\n",
        "# 현재 인덱스에 저장된 값은 자신의 부모노드인 셈\n",
        "n,m = map(int,input().split())\n",
        "data = [i for i in range(n+1)]\n",
        "\n",
        "for _ in range(m):\n",
        "    part, x, y = map(int,input().split())\n",
        "    if part == 0:\n",
        "        union_subset(x,y)\n",
        "    if part == 1:\n",
        "        find_x = find_parent(x)\n",
        "        find_y = find_parent(y)\n",
        "        if find_x != find_y :\n",
        "            print(\"NO\")\n",
        "        if find_x == find_y:\n",
        "            print(\"YES\")"
      ]
    },
    {
      "cell_type": "markdown",
      "source": [
        "### 2252번 줄 세우기\n",
        "https://www.acmicpc.net/problem/2252\n"
      ],
      "metadata": {
        "id": "dbO4BecEw8HZ"
      }
    },
    {
      "cell_type": "code",
      "source": [
        "# 두 학생씩 비교해간다 -> 두 노드간의 방향이 있는 엣지가 존재.\n",
        "# 꼭 먼저 나와야 하는 경우가 있고, 그게 아니라면 아무거나 먼저 나와도 됨 -> 위상정렬\n",
        "# n : 학생의 수, m : 키를 비교한 횟수 -> 노드와 엣지의 수\n",
        "n, m = map(int,input().split())\n",
        "# indegree 초기화\n",
        "indegree = [0] * (n+1)\n",
        "# 연결 리스트 초기화\n",
        "graph = [[] for i in range(n+1)]\n",
        "\n",
        "# 노드 정보 받기\n",
        "for _ in range(m):\n",
        "    a,b = map(int,input().split())\n",
        "    graph[a].append(b) # a가 먼저 그 다음에 b\n",
        "    # 연결되었으므로 진입차수증가\n",
        "    indegree[b] += 1\n",
        "\n",
        "from collections import deque\n",
        "\n",
        "# 위상정렬 함수\n",
        "def topology_sort():\n",
        "    result = []\n",
        "    # 큐를 이용해서 in_degree가 0인 리스트 담고, 수행하기\n",
        "    q = deque()\n",
        "    for i in range(1,n+1):\n",
        "        if indegree[i] == 0:\n",
        "            q.append(i)\n",
        "    # 큐가 빌 때까지 진행\n",
        "    while q:\n",
        "        target = q.popleft()\n",
        "        result.append(target)\n",
        "        for i in graph[target]:\n",
        "            indegree[i] -= 1\n",
        "            # indegree가 0이 되는 노드를 큐에 추가\n",
        "            if indegree[i] == 0:\n",
        "                q.append(i)\n",
        "    for i in result:\n",
        "        print(i,end=' ')\n",
        "\n",
        "topology_sort()"
      ],
      "metadata": {
        "id": "kjclz4Eh6ers"
      },
      "execution_count": null,
      "outputs": []
    },
    {
      "cell_type": "markdown",
      "source": [
        "### 9372번 상근이의 여행\n",
        "https://www.acmicpc.net/problem/9372"
      ],
      "metadata": {
        "id": "T8RHf51bw15B"
      }
    },
    {
      "cell_type": "code",
      "source": [
        "# 가장 적은 종류의 비행기를 타고 모든 국가를 이동 -> Minimum spanning tree\n",
        "# 방향은 따로 없고(왕복), 그냥 모든 도시들이 한 번씩만 이어지면 됨.\n",
        "t = int(input())\n",
        "# 노드에 담긴 정보를 담는 리스트\n",
        "path = []\n",
        "for _ in range(t):\n",
        "    # 테스트 케이스마다 새로 도시개수와 비행기 종류를 받아야 함\n",
        "    n, m = map(int, input().split())\n",
        "    for _ in range(m):\n",
        "        a, b = map(int,input().split())\n",
        "    # 비행기 안이어져있으면 어차피 못가니까 무조건 그 도시를 가는 비행기는 있을 것\n",
        "    # 모든 도시들을 연결하기 위한 최소의 엣지 수는 노드-1개\n",
        "    print(n-1)"
      ],
      "metadata": {
        "id": "buIv92ssw7oy"
      },
      "execution_count": null,
      "outputs": []
    }
  ]
}