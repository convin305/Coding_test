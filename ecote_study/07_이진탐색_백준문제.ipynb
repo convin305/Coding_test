{
  "nbformat": 4,
  "nbformat_minor": 0,
  "metadata": {
    "colab": {
      "provenance": [],
      "authorship_tag": "ABX9TyNDrN8V7pMzCaLarTZNW7c+"
    },
    "kernelspec": {
      "name": "python3",
      "display_name": "Python 3"
    },
    "language_info": {
      "name": "python"
    }
  },
  "cells": [
    {
      "cell_type": "markdown",
      "source": [
        "https://www.acmicpc.net/blog/view/109"
      ],
      "metadata": {
        "id": "u7xNxT2EWeQd"
      }
    },
    {
      "cell_type": "markdown",
      "source": [
        "### 2805.나무자르기\n",
        "https://www.acmicpc.net/problem/2805  \n",
        "N : 나무의 수  \n",
        "M : 집에 가져갈 길이  \n",
        "출력 : 절단기에 설정할 수 있는 높이의 최댓값"
      ],
      "metadata": {
        "id": "LUfNj-7YqaxV"
      }
    },
    {
      "cell_type": "code",
      "execution_count": null,
      "metadata": {
        "colab": {
          "base_uri": "https://localhost:8080/"
        },
        "id": "2VU6aw8XqCrs",
        "outputId": "a8248073-4fb8-43ae-ecb2-dfbfb4bc794c"
      },
      "outputs": [
        {
          "name": "stdout",
          "output_type": "stream",
          "text": [
            "4 7\n",
            "20 15 10 17\n"
          ]
        }
      ],
      "source": [
        "N, M = map(int, input().split())\n",
        "trees = list(map(int, input().split()))"
      ]
    },
    {
      "cell_type": "code",
      "source": [
        "# 제일 큰 높이에서부터 하나씩 줄여가면서 원하는 길이가 되었는지 확인하기\n",
        "# 시간초과 코드 - 진짜 이진탐색 코드로 수정 예정\n",
        "max_len = max(trees)\n",
        "\n",
        "for i in range(max_len,0,-1):\n",
        "  total = 0\n",
        "  # 트리들에서 하나씩 꺼내서 기준 길이보다 큰 경우 잘라서 total에 더함\n",
        "  for tree in trees: \n",
        "    if tree > i:\n",
        "      total += tree - i\n",
        "  # 만약 자른길이가 우리가 원하는 길이에 도달하면 break\n",
        "  if total == M:\n",
        "    break\n",
        "print(i)"
      ],
      "metadata": {
        "id": "W5IBdwYvu3Pn",
        "colab": {
          "base_uri": "https://localhost:8080/"
        },
        "outputId": "22d9130e-6b40-45a1-94b1-f22754c92d70"
      },
      "execution_count": null,
      "outputs": [
        {
          "output_type": "stream",
          "name": "stdout",
          "text": [
            "15\n"
          ]
        }
      ]
    },
    {
      "cell_type": "markdown",
      "source": [
        "### 2512.예산\n",
        "https://www.acmicpc.net/problem/2512  \n",
        "조건  \n",
        "1. 모든 요청이 배정될 수 있는 경우에는 요청한 금액을 그대로 배정  \n",
        "2. 모든 요청이 배정될 수 없는 경우에는 특정한 정수 상한액을 계산하여 그 이상인 예산요청에는 모두 상한액을 배정,  \n",
        "상한액 이하의 예산요청에 대해서는 요청한 금액을 그대로 배정  \n",
        "\n",
        "N : 지방의 수  \n",
        "budget_list : 각 지방의 예산 요청 리스트  \n",
        "M : 총 예산  \n",
        "\n",
        "출력 : 배정된 예산들 중 최댓값인 정수"
      ],
      "metadata": {
        "id": "jJ9QCTPoqgt3"
      }
    },
    {
      "cell_type": "code",
      "source": [
        "# 4\n",
        "# 120 110 140 150\n",
        "# 485"
      ],
      "metadata": {
        "id": "3W9VhLIO9P3W"
      },
      "execution_count": null,
      "outputs": []
    },
    {
      "cell_type": "code",
      "source": [
        "N = int(input())\n",
        "budget_list = list(map(int,input().split()))\n",
        "M = int(input())\n"
      ],
      "metadata": {
        "id": "vkPbaXcrqjpb",
        "colab": {
          "base_uri": "https://localhost:8080/"
        },
        "outputId": "d1e8fb7f-9690-4452-fd12-ca746a8bf0d3"
      },
      "execution_count": null,
      "outputs": [
        {
          "name": "stdout",
          "output_type": "stream",
          "text": [
            "4\n",
            "120 110 140 150\n",
            "485\n"
          ]
        }
      ]
    },
    {
      "cell_type": "code",
      "source": [
        "# 예산 큰 순서대로 소팅\n",
        "budget_list.sort()\n",
        "# 가장 작은, 큰 예산 할당\n",
        "min_budget, max_budget = 1, max(budget_list)\n",
        "\n",
        "# 일단 전체 합이 총 예산을 넘지 않는지 확인\n",
        "if sum(budget_list)<= M:\n",
        "  result = max_budget\n",
        "else:\n",
        "  while min_budget <= max_budget:\n",
        "    # 이진탐색이므로 중간을 결정\n",
        "    mid = (min_budget + max_budget)//2\n",
        "    total = 0\n",
        "    for budget in budget_list:\n",
        "      if budget > mid:\n",
        "        # 예산보다 더 많으면 잘라서 더함\n",
        "        total += mid\n",
        "      else :\n",
        "        total += budget\n",
        "    # 많은지, 적은지에 따라서 최소를 줄이거나 최대를 줄이는 방식으로 발전시켜나가기\n",
        "    if total > M :\n",
        "      max_budget = mid - 1\n",
        "    else : \n",
        "      min_budget = mid +1\n",
        "  result = max_budget\n",
        "\n",
        "print(max_budget)"
      ],
      "metadata": {
        "colab": {
          "base_uri": "https://localhost:8080/"
        },
        "id": "SMMEChF6zi5v",
        "outputId": "1b4b3cc0-6997-44cf-c1a5-f02e0153e8c1"
      },
      "execution_count": null,
      "outputs": [
        {
          "output_type": "execute_result",
          "data": {
            "text/plain": [
              "520"
            ]
          },
          "metadata": {},
          "execution_count": 13
        }
      ]
    },
    {
      "cell_type": "markdown",
      "source": [
        "### 2343.기타레슨\n",
        "https://www.acmicpc.net/problem/2343  \n",
        "N : 강의의 수  \n",
        "M : 블루레이의 수  \n",
        "input : 블루레이의 강의 순서  \n",
        "결과 : 블루레이의 크기 중 최소(?)"
      ],
      "metadata": {
        "id": "Om-EHj4NqkEp"
      }
    },
    {
      "cell_type": "code",
      "source": [
        "# 9 3\n",
        "# 1 2 3 4 5 6 7 8 9"
      ],
      "metadata": {
        "id": "_n_3UF0Nqlvb"
      },
      "execution_count": null,
      "outputs": []
    },
    {
      "cell_type": "code",
      "source": [
        "N,M = map(int, input().split())\n",
        "data = list(map(int, input().split()))"
      ],
      "metadata": {
        "id": "vGx_n1oSGHgY",
        "colab": {
          "base_uri": "https://localhost:8080/"
        },
        "outputId": "03b3227f-d94e-4543-866f-447f551f5142"
      },
      "execution_count": 3,
      "outputs": [
        {
          "name": "stdout",
          "output_type": "stream",
          "text": [
            "9 3\n",
            "1 2 3 4 5 6 7 8 9\n"
          ]
        }
      ]
    },
    {
      "cell_type": "code",
      "source": [
        "# 문제상 표현은 최소지만 사실상 우리에게는 최대값을 구하는 문제 같음\n",
        "# 이게 어떻게 이진탐색이지\n",
        "\n",
        "# 최소 크기는 가장 큰 영상의 길이, 최대는 모든걸 하나에 담는 경우\n",
        "min_len = max(data)\n",
        "max_len = sum(data)"
      ],
      "metadata": {
        "id": "akyE75_RGUU2"
      },
      "execution_count": 7,
      "outputs": []
    },
    {
      "cell_type": "code",
      "source": [
        "while min_len <= max_len:\n",
        "  mid_len = (min_len + max_len)//2\n",
        "  total_len = 0\n",
        "  cnt = 1\n",
        "  for each in data:\n",
        "    # 강의 하나씩 꺼내서 더한게 기준점보다 적다면 더해줌\n",
        "    if total_len + each < mid_len:\n",
        "      total_len += each\n",
        "    # 아니라면 블루레이 하나 더 꺼냄\n",
        "    else : \n",
        "      cnt += 1\n",
        "      total_len = each\n",
        "  # 만약에 블루레이 개수가 원하는 것보다 많으면, 하나에 담을 수 있는 크기를 늘려서 개수를 줄여야 함\n",
        "  if cnt > M:\n",
        "    min_len = mid_len + 1\n",
        "  # 그게 아니라면 최대 용량을 조금씩 줄여서 같은 개수라도 더 적은 용량을 담도록 해야 함\n",
        "  else : \n",
        "    max_len = mid_len - 1\n",
        "\n",
        "print(max_len)"
      ],
      "metadata": {
        "colab": {
          "base_uri": "https://localhost:8080/"
        },
        "id": "uq2qEdcjSr0F",
        "outputId": "dd39cf94-f1db-43b2-94a1-3adf082eae0d"
      },
      "execution_count": 11,
      "outputs": [
        {
          "output_type": "stream",
          "name": "stdout",
          "text": [
            "17\n"
          ]
        }
      ]
    }
  ]
}