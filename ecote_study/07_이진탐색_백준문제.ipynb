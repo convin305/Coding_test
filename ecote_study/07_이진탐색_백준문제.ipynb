{
  "nbformat": 4,
  "nbformat_minor": 0,
  "metadata": {
    "colab": {
      "provenance": [],
      "authorship_tag": "ABX9TyNfIF5PZm+jybaxsnfVs9BT"
    },
    "kernelspec": {
      "name": "python3",
      "display_name": "Python 3"
    },
    "language_info": {
      "name": "python"
    }
  },
  "cells": [
    {
      "cell_type": "markdown",
      "source": [
        "### 2805.나무자르기\n",
        "https://www.acmicpc.net/problem/2805  \n",
        "N : 나무의 수  \n",
        "M : 집에 가져갈 길이  \n",
        "출력 : 절단기에 설정할 수 있는 높이의 최댓값"
      ],
      "metadata": {
        "id": "LUfNj-7YqaxV"
      }
    },
    {
      "cell_type": "code",
      "execution_count": 2,
      "metadata": {
        "colab": {
          "base_uri": "https://localhost:8080/"
        },
        "id": "2VU6aw8XqCrs",
        "outputId": "a8248073-4fb8-43ae-ecb2-dfbfb4bc794c"
      },
      "outputs": [
        {
          "name": "stdout",
          "output_type": "stream",
          "text": [
            "4 7\n",
            "20 15 10 17\n"
          ]
        }
      ],
      "source": [
        "N, M = map(int, input().split())\n",
        "trees = list(map(int, input().split()))"
      ]
    },
    {
      "cell_type": "code",
      "source": [
        "# 제일 큰 높이에서부터 하나씩 줄여가면서 원하는 길이가 되었는지 확인하기\n",
        "max_len = max(trees)\n",
        "\n",
        "for i in range(max_len,0,-1):\n",
        "  total = 0\n",
        "  for tree in trees:\n",
        "    if tree > i:\n",
        "      total += tree - i\n",
        "  if total == M:\n",
        "    break\n",
        "print(i)"
      ],
      "metadata": {
        "id": "W5IBdwYvu3Pn",
        "colab": {
          "base_uri": "https://localhost:8080/"
        },
        "outputId": "22d9130e-6b40-45a1-94b1-f22754c92d70"
      },
      "execution_count": 11,
      "outputs": [
        {
          "output_type": "stream",
          "name": "stdout",
          "text": [
            "15\n"
          ]
        }
      ]
    },
    {
      "cell_type": "markdown",
      "source": [
        "### 2512.예산\n",
        "https://www.acmicpc.net/problem/2512  \n",
        "조건  \n",
        "1. 모든 요청이 배정될 수 있는 경우에는 요청한 금액을 그대로 배정  \n",
        "2. 모든 요청이 배정될 수 없는 경우에는 특정한 정수 상한액을 계산하여 그 이상인 예산요청에는 모두 상한액을 배정,  \n",
        "상한액 이하의 예산요청에 대해서는 요청한 금액을 그대로 배정  \n",
        "\n",
        "N : 지방의 수  \n",
        "budget_list : 각 지방의 예산 요청 리스트  \n",
        "M : 총 예산  \n",
        "\n",
        "출력 : 배정된 예산들 중 최댓값인 정수"
      ],
      "metadata": {
        "id": "jJ9QCTPoqgt3"
      }
    },
    {
      "cell_type": "code",
      "source": [
        "N = int(input())\n",
        "budget_list = list(map(int,input().split()))\n",
        "M = int(input())"
      ],
      "metadata": {
        "id": "vkPbaXcrqjpb",
        "colab": {
          "base_uri": "https://localhost:8080/"
        },
        "outputId": "84b9da26-dddc-4f33-d845-20a2aa6b7a0a"
      },
      "execution_count": 12,
      "outputs": [
        {
          "name": "stdout",
          "output_type": "stream",
          "text": [
            "4\n",
            "120 110 140 150\n",
            "485\n"
          ]
        }
      ]
    },
    {
      "cell_type": "code",
      "source": [
        "# 일단 전체 합이 총 예산을 넘지 않는지 확인\n",
        "if sum(budget_list)<= M:\n",
        "  result = max(budget_list)\n",
        "else:\n",
        "  "
      ],
      "metadata": {
        "colab": {
          "base_uri": "https://localhost:8080/"
        },
        "id": "SMMEChF6zi5v",
        "outputId": "1b4b3cc0-6997-44cf-c1a5-f02e0153e8c1"
      },
      "execution_count": 13,
      "outputs": [
        {
          "output_type": "execute_result",
          "data": {
            "text/plain": [
              "520"
            ]
          },
          "metadata": {},
          "execution_count": 13
        }
      ]
    },
    {
      "cell_type": "code",
      "source": [],
      "metadata": {
        "id": "8eveOjEkzi2c"
      },
      "execution_count": null,
      "outputs": []
    },
    {
      "cell_type": "markdown",
      "source": [
        "### 2343.기타레슨\n",
        "https://www.acmicpc.net/problem/2343"
      ],
      "metadata": {
        "id": "Om-EHj4NqkEp"
      }
    },
    {
      "cell_type": "code",
      "source": [],
      "metadata": {
        "id": "_n_3UF0Nqlvb"
      },
      "execution_count": null,
      "outputs": []
    }
  ]
}