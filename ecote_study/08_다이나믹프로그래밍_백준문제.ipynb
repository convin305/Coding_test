{
  "nbformat": 4,
  "nbformat_minor": 0,
  "metadata": {
    "colab": {
      "provenance": [],
      "authorship_tag": "ABX9TyMhCUWwcCqaloDfv5Ul/f79"
    },
    "kernelspec": {
      "name": "python3",
      "display_name": "Python 3"
    },
    "language_info": {
      "name": "python"
    }
  },
  "cells": [
    {
      "cell_type": "markdown",
      "source": [
        "### 2748번 피보나치 수2  \n",
        "https://www.acmicpc.net/problem/2748  \n",
        "n번째 피보나치 수를 구하기  \n",
        "0부터 시작해서 1, 1, 2, 3 이런 식으로 바로 직전 2개의 합이 출력됨\n"
      ],
      "metadata": {
        "id": "jn7QM_1T1rM3"
      }
    },
    {
      "cell_type": "code",
      "execution_count": 5,
      "metadata": {
        "id": "l6OpzV6yzpQ-",
        "colab": {
          "base_uri": "https://localhost:8080/"
        },
        "outputId": "772ee415-aef8-42c2-c103-9a145f7659d2"
      },
      "outputs": [
        {
          "output_type": "stream",
          "name": "stdout",
          "text": [
            "10\n",
            "55\n"
          ]
        }
      ],
      "source": [
        "n = int(input())\n",
        "fibonacci = []\n",
        "for i in range(n+1):\n",
        "  if i <= 1: # 1번째까지는 그대로 들어가고\n",
        "    fibonacci.append(i)\n",
        "  else : \n",
        "    # 그 이후부터는 마지막 2개를 더해서 넣음\n",
        "    num = fibonacci[i-2]+fibonacci[i-1]\n",
        "    fibonacci.append(num)\n",
        "print(fibonacci[-1])"
      ]
    },
    {
      "cell_type": "markdown",
      "source": [
        "### 1463번 1로 만들기  \n",
        "https://www.acmicpc.net/problem/1463   \n",
        "\n",
        "조건\n",
        "1.   X가 3으로 나누어 떨어지면, 3으로 나눈다.\n",
        "2.   X가 2로 나누어 떨어지면, 2로 나눈다.\n",
        "3. 1을 뺀다.\n",
        "\n",
        "\n",
        "정수 N이 주어졌을 때, 위와 같은 연산 세 개를 적절히 사용해서 1을 만들려고 하는데, 이 때 연산을 사용하는 횟수의 최솟값\n"
      ],
      "metadata": {
        "id": "EuZSDaJe1u-C"
      }
    },
    {
      "cell_type": "code",
      "source": [
        "#  이전의 결과를 다음에 활용하는게 포인트 같은데\n",
        "n = int(input())\n",
        "\n",
        "# DP테이블 초기화 \n",
        "d = [0]* 1000001\n",
        "\n",
        "# 바텀업 스타일 \n",
        "for i in range(2,n+1):\n",
        "  # 현재의 수에서 1을 빼는 경우\n",
        "  d[i] = d[i-1] + 1\n",
        "  # 현재의 수가 2로 나누어 떨어지는 경우\n",
        "  if i % 2 == 0:\n",
        "    d[i] = min(d[i],d[i//2]+1)\n",
        "  # 현재의 수가 3으로 나누어 떨어지는 경우 \n",
        "  if i % 3 == 0:\n",
        "    d[i] = min(d[i],d[i//3]+1)\n",
        "print(d[n])"
      ],
      "metadata": {
        "id": "mZ4zCZog1w9u",
        "colab": {
          "base_uri": "https://localhost:8080/"
        },
        "outputId": "552160d5-1a4f-4759-fb44-f21d2f93a004"
      },
      "execution_count": 6,
      "outputs": [
        {
          "output_type": "stream",
          "name": "stdout",
          "text": [
            "10\n",
            "3\n"
          ]
        }
      ]
    },
    {
      "cell_type": "markdown",
      "source": [
        "### 11726번 2xn타일링  \n",
        "https://www.acmicpc.net/problem/11726   "
      ],
      "metadata": {
        "id": "hRLwbv2z1xQa"
      }
    },
    {
      "cell_type": "code",
      "source": [
        "n = int(input())\n",
        "\n",
        "d = [0]*1001\n",
        "\n",
        "# 이미 정해진 것들\n",
        "d[1]=1\n",
        "d[2]=2\n",
        "\n",
        "# 3부터는 달라질 수 있음\n",
        "for i in range(3,1001):\n",
        "  # 문제가 나누래서 나눴는데 왜 나누는지 모르겠음\n",
        "  d[i] = (d[i-1]+d[i-2])%10007\n",
        "\n",
        "print(d[n])"
      ],
      "metadata": {
        "colab": {
          "base_uri": "https://localhost:8080/"
        },
        "id": "MM7SdgAjm0Yy",
        "outputId": "a26c9259-c37b-4616-e8b1-721fba25ba32"
      },
      "execution_count": 7,
      "outputs": [
        {
          "output_type": "stream",
          "name": "stdout",
          "text": [
            "9\n",
            "55\n"
          ]
        }
      ]
    }
  ]
}